{
 "cells": [
  {
   "cell_type": "code",
   "execution_count": 1,
   "id": "69388c7a",
   "metadata": {},
   "outputs": [],
   "source": [
    "import os\n",
    "from dotenv import load_dotenv \n",
    "from openai import OpenAI\n",
    "import gradio as gr"
   ]
  },
  {
   "cell_type": "code",
   "execution_count": 2,
   "id": "e79dae55",
   "metadata": {},
   "outputs": [
    {
     "name": "stdout",
     "output_type": "stream",
     "text": [
      "API key found and looks good so far!\n"
     ]
    }
   ],
   "source": [
    "load_dotenv(override=True)\n",
    "\n",
    "API_KEY=os.getenv(\"GROQ_API_KEY\")\n",
    "BASE_URL=\"https://api.groq.com/openai/v1\"\n",
    "\n",
    "MODEL=\"llama3-70b-8192\"\n",
    "\n",
    "if not API_KEY:\n",
    "    print(\"No API_Key found, Please set the API_KEY.\")\n",
    "    exit(1)\n",
    "elif API_KEY.strip() != API_KEY:\n",
    "    print(\"An API key was found, but it looks like it might have space or tab characters at the start or end - please remove them - see troubleshooting notebook\")\n",
    "else:\n",
    "    print(\"API key found and looks good so far!\")"
   ]
  },
  {
   "cell_type": "code",
   "execution_count": 3,
   "id": "12828ea5",
   "metadata": {},
   "outputs": [],
   "source": [
    "openai = OpenAI(api_key=API_KEY, base_url=BASE_URL)"
   ]
  },
  {
   "cell_type": "code",
   "execution_count": 4,
   "id": "ebbfdbe1",
   "metadata": {},
   "outputs": [],
   "source": [
    "\n",
    "# def get_answer_by_AI_with_Streaming(prompt):\n",
    "#     stream_response = openai.chat.completions.create(\n",
    "#         model=MODEL,\n",
    "#         messages=[\n",
    "#             {\"role\": \"user\", \"content\": prompt}\n",
    "#         ],\n",
    "#         stream=True\n",
    "#     )\n",
    "#     result = \"\"\n",
    "#     for chunk in stream_response:\n",
    "#         delta = chunk.choices[0].delta\n",
    "#         content = getattr(delta, \"content\", None)\n",
    "#         if content:\n",
    "#             result += content\n",
    "#             yield result\n",
    "\n",
    "# print(result)"
   ]
  },
  {
   "cell_type": "code",
   "execution_count": 5,
   "id": "89227350",
   "metadata": {},
   "outputs": [],
   "source": [
    "# view = gr.Interface(\n",
    "#     fn = get_answer_by_AI_with_Streaming,\n",
    "#     inputs= [gr.Textbox(label=\"Enter any Questions:\")],\n",
    "#     outputs=[gr.Markdown(label=\"Answer:\")],\n",
    "#     flagging_mode=\"never\"\n",
    "# )\n",
    "# view.launch()"
   ]
  },
  {
   "cell_type": "code",
   "execution_count": null,
   "id": "58bc927b",
   "metadata": {},
   "outputs": [],
   "source": []
  },
  {
   "cell_type": "code",
   "execution_count": null,
   "id": "fffdba97",
   "metadata": {},
   "outputs": [],
   "source": []
  }
 ],
 "metadata": {
  "kernelspec": {
   "display_name": "Python 3",
   "language": "python",
   "name": "python3"
  },
  "language_info": {
   "codemirror_mode": {
    "name": "ipython",
    "version": 3
   },
   "file_extension": ".py",
   "mimetype": "text/x-python",
   "name": "python",
   "nbconvert_exporter": "python",
   "pygments_lexer": "ipython3",
   "version": "3.11.13"
  }
 },
 "nbformat": 4,
 "nbformat_minor": 5
}
