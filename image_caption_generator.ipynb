{
 "cells": [
  {
   "cell_type": "code",
   "execution_count": 21,
   "id": "845a3cfa",
   "metadata": {},
   "outputs": [],
   "source": [
    "import os\n",
    "import requests\n",
    "import json\n",
    "import socket\n",
    "import ipaddress\n",
    "import base64\n",
    "import glob\n",
    "import replicate\n",
    "from typing import List\n",
    "from dotenv import load_dotenv\n",
    "from bs4 import BeautifulSoup\n",
    "from IPython.display import display, Markdown, update_display\n",
    "from openai import OpenAI\n",
    "from urllib.parse import urlparse\n",
    "from urllib.parse import urljoin\n",
    "from selenium import webdriver\n",
    "from selenium.webdriver.chrome.options import Options\n",
    "from selenium.webdriver.chrome.service import Service\n",
    "from selenium.common.exceptions import WebDriverException\n",
    "from webdriver_manager.chrome import ChromeDriverManager"
   ]
  },
  {
   "cell_type": "code",
   "execution_count": 26,
   "id": "32191563",
   "metadata": {},
   "outputs": [],
   "source": [
    "\n",
    "def is_safe_url(url):\n",
    "    try:\n",
    "        parsed = urlparse(url)\n",
    "        if parsed.scheme not in [\"http\", \"https\"] or parsed.netloc == \"\":\n",
    "            return False\n",
    "        host = parsed.hostname\n",
    "        ip = ipaddress.ip_address(socket.gethostbyname(host))\n",
    "        if ip.is_private or ip.is_loopback or ip.is_reserved or ip.is_link_local:\n",
    "            return False\n",
    "    except Exception:\n",
    "        return False\n",
    "    return True\n",
    "\n",
    "class Image_Scrapper:\n",
    "    def __init__(self, url):\n",
    "        if not is_safe_url(url):\n",
    "            raise ValueError(\"Invalid or unsafe URL\")\n",
    "\n",
    "        self.images = []\n",
    "\n",
    "        # Setup Selenium\n",
    "        options = Options()\n",
    "        options.add_argument(\"--headless\")\n",
    "        options.add_argument(\"--disable-gpu\")\n",
    "        options.add_argument(\"--no-sandbox\")\n",
    "        options.add_argument(\"--disable-dev-shm-usage\")\n",
    "        options.add_argument(\"--disable-extensions\")\n",
    "        options.add_argument(\"--disable-blink-features=AutomationControlled\")\n",
    "\n",
    "        driver = webdriver.Chrome(service=Service(ChromeDriverManager().install()), options=options)\n",
    "\n",
    "        try:\n",
    "            driver.set_page_load_timeout(20)\n",
    "            driver.get(url)\n",
    "            soup = BeautifulSoup(driver.page_source, \"html.parser\")\n",
    "\n",
    "            self.title = soup.title.string.strip() if soup.title else \"No title found\"\n",
    "\n",
    "            img_tags = soup.find_all('img')\n",
    "            # self.images = [img['src'] for img in img_tags if not img.get('alt')]\n",
    "            self.images = [img['src'] for img in img_tags]\n",
    "            # self.images = [urljoin(url, img['src']) for img in img_tags if img.get('src')]\n",
    "\n",
    "        except Exception as e:\n",
    "            print(f\"Error loading page: {e}\")\n",
    "        finally:\n",
    "            driver.quit()\n"
   ]
  },
  {
   "cell_type": "code",
   "execution_count": 27,
   "id": "4f2c9c2a",
   "metadata": {},
   "outputs": [
    {
     "data": {
      "text/plain": [
       "['https://i0.wp.com/edwarddonner.com/wp-content/uploads/2023/12/cropped-edworkprofile2.png?fit=1128%2C1128&ssl=1',\n",
       " 'https://edwarddonner.com/wp-content/uploads/2025/05/exec-copy2.jpeg',\n",
       " 'https://edwarddonner.com/wp-content/uploads/2025/05/exec.png',\n",
       " 'https://edwarddonner.com/wp-content/uploads/2025/04/autonomy.png',\n",
       " 'https://edwarddonner.com/wp-content/uploads/2025/01/handson.jpg',\n",
       " 'https://pixel.wp.com/g.gif?v=ext&blog=227378255&post=57&tz=-4&srv=edwarddonner.com&hp=atomic&ac=2&amp=0&j=1%3A14.9-a.1&host=edwarddonner.com&ref=&fcp=320&rand=0.7381890454109881']"
      ]
     },
     "execution_count": 27,
     "metadata": {},
     "output_type": "execute_result"
    }
   ],
   "source": [
    "website_Images = Image_Scrapper(\"https://edwarddonner.com\")\n",
    "website_Images.images"
   ]
  },
  {
   "cell_type": "code",
   "execution_count": 10,
   "id": "1e9f0004",
   "metadata": {},
   "outputs": [],
   "source": [
    "# website_Images = Image_Scrapper(\"https://gopalinfo.com\")\n",
    "# website_Images.images"
   ]
  },
  {
   "cell_type": "code",
   "execution_count": 11,
   "id": "e3af1d5d",
   "metadata": {},
   "outputs": [
    {
     "name": "stdout",
     "output_type": "stream",
     "text": [
      "API key found and looks good so far!\n"
     ]
    }
   ],
   "source": [
    "load_dotenv(override=True)\n",
    "API_KEY = os.getenv(\"REPLICATE_API_KEY\")\n",
    "\n",
    "if not API_KEY:\n",
    "    print(\"No API_Key found, Please set the API_KEY.\")\n",
    "    exit(1)\n",
    "elif API_KEY.strip() != API_KEY:\n",
    "    print(\"An API key was found, but it looks like it might have space or tab characters at the start or end - please remove them - see troubleshooting notebook\")\n",
    "else:\n",
    "    print(\"API key found and looks good so far!\")\n",
    "\n",
    "\n",
    "client = replicate.Client(api_token=API_KEY)\n",
    "model = client.models.get(\"salesforce/blip\")\n",
    "version = model.versions.get(\"2e1dddc8621f72155f24cf2e0adbde548458d3cab9f00c0139eea840d0ac4746\")\n"
   ]
  },
  {
   "cell_type": "code",
   "execution_count": 17,
   "id": "dd41041b",
   "metadata": {},
   "outputs": [
    {
     "name": "stdout",
     "output_type": "stream",
     "text": [
      "❌ Failed to caption https://i0.wp.com/edwarddonner.com/wp-content/uploads/2023/12/cropped-edworkprofile2.png?fit=1128%2C1128&ssl=1: 'Version' object has no attribute 'predict'\n",
      "❌ Failed to caption https://edwarddonner.com/wp-content/uploads/2025/05/exec-copy2.jpeg: 'Version' object has no attribute 'predict'\n",
      "❌ Failed to caption https://edwarddonner.com/wp-content/uploads/2025/05/exec.png: 'Version' object has no attribute 'predict'\n",
      "❌ Failed to caption https://edwarddonner.com/wp-content/uploads/2025/04/autonomy.png: 'Version' object has no attribute 'predict'\n",
      "❌ Failed to caption https://edwarddonner.com/wp-content/uploads/2025/01/handson.jpg: 'Version' object has no attribute 'predict'\n",
      "❌ Failed to caption https://pixel.wp.com/g.gif?v=ext&blog=227378255&post=57&tz=-4&srv=edwarddonner.com&hp=atomic&ac=2&amp=0&j=1%3A14.9-a.1&host=edwarddonner.com&ref=&fcp=292&rand=0.24834006810901665: 'Version' object has no attribute 'predict'\n"
     ]
    }
   ],
   "source": [
    "# STEP 2: Initialize replicate client and model\n",
    "\n",
    "\n",
    "for img_url in website_Images.images:\n",
    "    if is_safe_url(img_url):\n",
    "        try:\n",
    "            caption = version.predict(image=img_url, task=\"caption\")\n",
    "            print(f\"{img_url} → {caption}\")\n",
    "        except Exception as e:\n",
    "            print(f\"❌ Failed to caption {img_url}: {e}\")\n",
    "    else:\n",
    "        print(f\"⚠️ Skipping unsafe URL: {img_url}\")"
   ]
  }
 ],
 "metadata": {
  "kernelspec": {
   "display_name": "base",
   "language": "python",
   "name": "python3"
  },
  "language_info": {
   "codemirror_mode": {
    "name": "ipython",
    "version": 3
   },
   "file_extension": ".py",
   "mimetype": "text/x-python",
   "name": "python",
   "nbconvert_exporter": "python",
   "pygments_lexer": "ipython3",
   "version": "3.12.7"
  }
 },
 "nbformat": 4,
 "nbformat_minor": 5
}
