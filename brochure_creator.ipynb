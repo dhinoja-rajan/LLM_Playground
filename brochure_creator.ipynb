{
 "cells": [
  {
   "cell_type": "code",
   "execution_count": 1,
   "id": "d97f52c1",
   "metadata": {},
   "outputs": [],
   "source": [
    "import os\n",
    "import requests\n",
    "import json\n",
    "from typing import List\n",
    "from dotenv import load_dotenv\n",
    "from bs4 import BeautifulSoup\n",
    "from IPython.display import display, Markdown, update_display\n",
    "from openai import OpenAI\n",
    "import socket\n",
    "import ipaddress\n",
    "from urllib.parse import urlparse\n",
    "from selenium import webdriver\n",
    "from selenium.webdriver.chrome.options import Options\n",
    "from selenium.webdriver.chrome.service import Service\n",
    "from selenium.common.exceptions import WebDriverException\n",
    "from webdriver_manager.chrome import ChromeDriverManager"
   ]
  },
  {
   "cell_type": "code",
   "execution_count": 2,
   "id": "0c93c9c1",
   "metadata": {},
   "outputs": [
    {
     "name": "stdout",
     "output_type": "stream",
     "text": [
      "API key found and looks good so far!\n"
     ]
    }
   ],
   "source": [
    "load_dotenv(override=True)\n",
    "api_key = os.getenv(\"GROQ_API_KEY\")\n",
    "\n",
    "if not api_key:\n",
    "    print(\"No API_Key found, Please set the API_KEY.\")\n",
    "    exit(1)\n",
    "elif api_key.strip() != api_key:\n",
    "    print(\"An API key was found, but it looks like it might have space or tab characters at the start or end - please remove them - see troubleshooting notebook\")\n",
    "else:\n",
    "    print(\"API key found and looks good so far!\")\n"
   ]
  },
  {
   "cell_type": "code",
   "execution_count": null,
   "id": "83c86527",
   "metadata": {},
   "outputs": [],
   "source": [
    "MODEL = \"llama3-70b-8192\"\n",
    "openai = OpenAI(api_key=api_key, base_url = \"https://api.groq.com/openai/v1\")"
   ]
  },
  {
   "cell_type": "code",
   "execution_count": 4,
   "id": "46e6f95e",
   "metadata": {},
   "outputs": [],
   "source": [
    "def is_safe_url(url):\n",
    "    try:\n",
    "        parsed = urlparse(url)\n",
    "        if parsed.scheme not in [\"http\", \"https\"] or parsed.netloc == \"\":\n",
    "            return False\n",
    "\n",
    "        host = parsed.hostname\n",
    "        ip = ipaddress.ip_address(socket.gethostbyname(host))\n",
    "        if ip.is_private or ip.is_loopback or ip.is_reserved or ip.is_link_local:\n",
    "            return False\n",
    "    except Exception:\n",
    "        return False\n",
    "    return True\n",
    "\n",
    "\n",
    "class Website:\n",
    "    \"\"\"\n",
    "    A utility class to represent a Website that we have scraped, using Selenium, with extracted links.\n",
    "    \"\"\"\n",
    "\n",
    "    def __init__(self, url):\n",
    "        if not is_safe_url(url):\n",
    "            raise ValueError(\"Invalid or unsafe URL\")\n",
    "\n",
    "        self.url = url\n",
    "        self.title = \"No title found\"\n",
    "        self.text = \"\"\n",
    "        self.links = []\n",
    "\n",
    "        # Setup Selenium\n",
    "        options = Options()\n",
    "        options.add_argument(\"--headless\")\n",
    "        options.add_argument(\"--disable-gpu\")\n",
    "        options.add_argument(\"--no-sandbox\")\n",
    "        options.add_argument(\"--disable-dev-shm-usage\")\n",
    "        options.add_argument(\"--disable-extensions\")\n",
    "        options.add_argument(\"--disable-blink-features=AutomationControlled\")\n",
    "\n",
    "        driver = webdriver.Chrome(service=Service(ChromeDriverManager().install()), options=options)\n",
    "\n",
    "        try:\n",
    "            driver.set_page_load_timeout(20)\n",
    "            driver.get(url)\n",
    "            soup = BeautifulSoup(driver.page_source, \"html.parser\")\n",
    "\n",
    "            # Get title\n",
    "            self.title = soup.title.string.strip() if soup.title else \"No title found\"\n",
    "\n",
    "            # Remove irrelevant tags\n",
    "            if soup.body:\n",
    "                for tag in soup.body([\"script\", \"style\", \"img\", \"input\"]):\n",
    "                    tag.decompose()\n",
    "                self.text = soup.body.get_text(separator=\"\\n\", strip=True)\n",
    "\n",
    "            # Extract all valid links\n",
    "            all_links = [a.get(\"href\") for a in soup.find_all(\"a\") if a.get(\"href\")]\n",
    "            self.links = all_links\n",
    "\n",
    "        except WebDriverException as e:\n",
    "            print(f\"Error loading page with Selenium: {e}\")\n",
    "        finally:\n",
    "            driver.quit()\n",
    "\n",
    "    def get_contents(self):\n",
    "        return f\"Webpage Title:\\n{self.title}\\n\\nWebpage Contents:\\n{self.text}\\n\\n\"\n"
   ]
  },
  {
   "cell_type": "code",
   "execution_count": 5,
   "id": "f3a08f32",
   "metadata": {},
   "outputs": [
    {
     "name": "stdout",
     "output_type": "stream",
     "text": [
      "Webpage Title:\n",
      "Home - Edward Donner\n",
      "\n",
      "Webpage Contents:\n",
      "Skip to content\n",
      "Home\n",
      "Connect Four\n",
      "Outsmart\n",
      "An arena that pits LLMs against each other in a battle of diplomacy and deviousness\n",
      "About\n",
      "Posts\n",
      "Well, hi there.\n",
      "I’m Ed. I like writing code and experimenting with LLMs, and hopefully you’re here because you do too. I also enjoy DJing (but I’m badly out of practice), amateur electronic music production (\n",
      "very\n",
      "amateur) and losing myself in\n",
      "Hacker News\n",
      ", nodding my head sagely to things I only half understand.\n",
      "I’m the co-founder and CTO of\n",
      "Nebula.io\n",
      ". We’re applying AI to a field where it can make a massive, positive impact: helping people discover their potential and pursue their reason for being. Recruiters use our product today to source, understand, engage and manage talent. I’m previously the founder and CEO of AI startup untapt,\n",
      "acquired in 2021\n",
      ".\n",
      "We work with groundbreaking, proprietary LLMs verticalized for talent, we’ve\n",
      "patented\n",
      "our matching model, and our award-winning platform has happy customers and tons of press coverage.\n",
      "Connect\n",
      "with me for more!\n",
      "May 28, 2025\n",
      "Connecting my courses – become an LLM expert and leader\n",
      "May 18, 2025\n",
      "2025 AI Executive Briefing\n",
      "April 21, 2025\n",
      "The Complete Agentic AI Engineering Course\n",
      "January 23, 2025\n",
      "LLM Workshop – Hands-on with Agents – resources\n",
      "Navigation\n",
      "Home\n",
      "Connect Four\n",
      "Outsmart\n",
      "An arena that pits LLMs against each other in a battle of diplomacy and deviousness\n",
      "About\n",
      "Posts\n",
      "Get in touch\n",
      "ed [at] edwarddonner [dot] com\n",
      "www.edwarddonner.com\n",
      "Follow me\n",
      "LinkedIn\n",
      "Twitter\n",
      "Facebook\n",
      "Subscribe to newsletter\n",
      "Type your email…\n",
      "Subscribe\n",
      "\n",
      "\n"
     ]
    }
   ],
   "source": [
    "web_scrapper = Website(\"https://edwarddonner.com\")\n",
    "print(web_scrapper.get_contents())\n",
    "# web_scrapper.links"
   ]
  },
  {
   "cell_type": "code",
   "execution_count": 6,
   "id": "694c1b70",
   "metadata": {},
   "outputs": [],
   "source": [
    "link_system_prompt = \"You are provided with a list of links found on a webpage. \\\n",
    "You are able to decide which of the links would be most relevant to include in a brochure about the company, \\\n",
    "such as links to an About page, or a Company page, or Careers/Jobs pages.\\nYou should respond in JSON as in this example:\"\n",
    "link_system_prompt += \"\"\"\n",
    "{\n",
    "    \"links\": [\n",
    "        {\"type\": \"about page\", \"url\": \"https://full.url/goes/here/about\"},\n",
    "        {\"type\": \"careers page\": \"url\": \"https://another.full.url/careers\"}\n",
    "    ]\n",
    "}\n",
    "\"\"\"\n",
    "\n",
    "def get_links_user_prompt(website):\n",
    "    user_prompt = f\"Here is the list of links on the website of {website.url} - please decide which of these are relevant web links for a brochure about the company, respond with the full https URL in JSON format.Do not include Terms of Service, Privacy, email links.\\n\\n Links (some might be relative links):\\n\"\n",
    "    user_prompt += \"\\n\".join(website.links)\n",
    "    return user_prompt"
   ]
  },
  {
   "cell_type": "code",
   "execution_count": 7,
   "id": "18ccce0d",
   "metadata": {},
   "outputs": [],
   "source": [
    "# print(get_links_user_prompt(web_scrapper))"
   ]
  },
  {
   "cell_type": "code",
   "execution_count": 8,
   "id": "d1559547",
   "metadata": {},
   "outputs": [],
   "source": [
    "def get_links(url):\n",
    "    website= Website(url)\n",
    "    response = openai.chat.completions.create(\n",
    "        model = MODEL,\n",
    "        messages = [\n",
    "            {\"role\": \"system\",\"content\": link_system_prompt},\n",
    "            {\"role\": \"user\", \"content\": get_links_user_prompt(website)}\n",
    "        ],\n",
    "        response_format = {\"type\": \"json_object\"}\n",
    "    )\n",
    "    result = response.choices[0].message.content\n",
    "    return json.loads(result)"
   ]
  },
  {
   "cell_type": "code",
   "execution_count": 9,
   "id": "01d169d7",
   "metadata": {},
   "outputs": [],
   "source": [
    "# get_links(\"https://anthropic.com\")"
   ]
  },
  {
   "cell_type": "code",
   "execution_count": 10,
   "id": "82e96afe",
   "metadata": {},
   "outputs": [],
   "source": [
    "def get_all_details(url):\n",
    "    result = \"Landing page:\\n\"\n",
    "    result += Website(url).get_contents()\n",
    "    links = get_links(url)\n",
    "    print(\"Found links:\", links)\n",
    "    for link in links[\"links\"]:\n",
    "        result += f\"\\n\\n{link['type']}\\n\"\n",
    "        result += Website(link[\"url\"]).get_contents()\n",
    "    return result"
   ]
  },
  {
   "cell_type": "code",
   "execution_count": 11,
   "id": "0dfe2efe",
   "metadata": {},
   "outputs": [],
   "source": [
    "# print(get_all_details(\"https://huggingface.co\"))"
   ]
  },
  {
   "cell_type": "code",
   "execution_count": 12,
   "id": "a5ed7b16",
   "metadata": {},
   "outputs": [],
   "source": [
    "system_prompt = \"You are an assistant that analyzes the contents of several relevant pages from a company website \\\n",
    "and creates a short brochure about the company for prospective customers, investors and recruits. Respond in markdown.\\\n",
    "Include details of company culture, customers and careers/jobs if you have the information.\"\n",
    "\n",
    "def get_brochure_user_prompt(company_name, url):\n",
    "    user_prompt = f\"You are looking at a company called: {company_name}\\nHere are the contents of its landing page and other relevant pages; use this information to build a short brochure of the company in markdown.\\n\"\n",
    "    user_prompt += get_all_details(url)\n",
    "    user_prompt = user_prompt[:5_000] # Truncate if more than 5,000 characters\n",
    "    return user_prompt"
   ]
  },
  {
   "cell_type": "code",
   "execution_count": 13,
   "id": "62156011",
   "metadata": {},
   "outputs": [],
   "source": [
    "# get_brochure_user_prompt(\"HuggingFace\", \"https://huggingface.co\")"
   ]
  },
  {
   "cell_type": "code",
   "execution_count": 14,
   "id": "8c234b71",
   "metadata": {},
   "outputs": [],
   "source": [
    "def create_brochure(company_name, url):\n",
    "    response = openai.chat.completions.create(\n",
    "        model=MODEL,\n",
    "        messages=[\n",
    "            {\"role\": \"system\", \"content\": system_prompt},\n",
    "            {\"role\": \"user\", \"content\": get_brochure_user_prompt(company_name, url)}\n",
    "          ],\n",
    "    )\n",
    "    result = response.choices[0].message.content\n",
    "    display(Markdown(result))"
   ]
  },
  {
   "cell_type": "code",
   "execution_count": 15,
   "id": "bfe65f72",
   "metadata": {},
   "outputs": [],
   "source": [
    "# create_brochure(\"HuggingFace\", \"https://huggingface.co\")"
   ]
  },
  {
   "cell_type": "code",
   "execution_count": 16,
   "id": "36e6ea94",
   "metadata": {},
   "outputs": [
    {
     "name": "stdout",
     "output_type": "stream",
     "text": [
      "Found links: {'links': [{'type': 'about page', 'url': 'https://www.gopalinfo.com/about-us/'}, {'type': 'portfolio', 'url': 'https://www.gopalinfo.com/portfolio/'}, {'type': 'contact', 'url': 'https://www.gopalinfo.com/contact-us/'}]}\n"
     ]
    },
    {
     "data": {
      "text/markdown": [
       "**Gopal Info Brochure**\n",
       "======================\n",
       "\n",
       "**Your Trusted Partner in Digital Growth**\n",
       "------------------------------------------\n",
       "\n",
       "Gopal Info is a leading digital solutions company that offers expert services in graphic design, website development, digital marketing, SEO, and social media management. We help businesses thrive online with tailored strategies built for success.\n",
       "\n",
       "**Our Mission**\n",
       "--------------\n",
       "\n",
       "To empower businesses by delivering innovative and impactful digital solutions, committed to excellence, creativity, and customer satisfaction.\n",
       "\n",
       "**Our Vision**\n",
       "-------------\n",
       "\n",
       "To be a trusted leader in digital solutions, inspiring growth and innovation for businesses worldwide.\n",
       "\n",
       "**Our Values**\n",
       "-------------\n",
       "\n",
       "* Client satisfaction\n",
       "* Integrity\n",
       "* Innovation\n",
       "* Excellence in every project\n",
       "* Transparency and reliability\n",
       "* Strong partnerships\n",
       "\n",
       "**Services**\n",
       "------------\n",
       "\n",
       "* Graphic Designing: Crafting eye-catching designs to elevate your brand\n",
       "* UI/UX Design: Creating intuitive and engaging user experiences\n",
       "* Branding Consulting: Building strong, memorable brands with expert guidance\n",
       "* Web Designing: Creating stunning websites that capture your brand's essence\n",
       "* Website Development: Building robust and scalable web solutions for your business\n",
       "* Search Engine Optimization: Boosting your online visibility with proven SEO strategies\n",
       "* Social Media Marketing: Driving engagement and growth with targeted social media strategies\n",
       "* Google Ads: Maximizing reach and conversions with targeted Google Ads campaigns\n",
       "* Mobile App Development: Developing innovative mobile apps that enhance user experience\n",
       "\n",
       "**Technologies**\n",
       "-------------\n",
       "\n",
       "We utilize a diverse range of advanced technologies to deliver high-quality services, including website and mobile development to digital marketing.\n",
       "\n",
       "**How We Work**\n",
       "--------------\n",
       "\n",
       "We follow an agile methodology to ensure your project's success. Our transparent and systematic approach prioritizes collaboration, creativity, and quality at every step, from initial consultation to final delivery.\n",
       "\n",
       "**Our Team**\n",
       "------------\n",
       "\n",
       "Meet our Director & Project Manager, Pratik Mandaliya, who brings 4+ years of experience in project management and client communication. He ensures the company fulfills its promises of perfection, timely delivery, and creative work that stands out.\n",
       "\n",
       "**Accomplishments**\n",
       "----------------\n",
       "\n",
       "* 4+ active clients\n",
       "* 300+ projects done\n",
       "* 70%+ success rate\n",
       "* 0+ awards\n",
       "\n",
       "**Get in Touch**\n",
       "----------------\n",
       "\n",
       "Address: 502 - Matrix, Makarba, Ahmedabad - 380015, India\n",
       "Connect with us: [WhatsApp]( WhatsApp us)\n",
       "\n",
       "Let's create something amazing together! Share your details, and we'll connect with you to bring your vision to life."
      ],
      "text/plain": [
       "<IPython.core.display.Markdown object>"
      ]
     },
     "metadata": {},
     "output_type": "display_data"
    }
   ],
   "source": [
    "create_brochure(\"Gopal Info\", \"https://gopalinfo.com\")"
   ]
  }
 ],
 "metadata": {
  "kernelspec": {
   "display_name": "base",
   "language": "python",
   "name": "python3"
  },
  "language_info": {
   "codemirror_mode": {
    "name": "ipython",
    "version": 3
   },
   "file_extension": ".py",
   "mimetype": "text/x-python",
   "name": "python",
   "nbconvert_exporter": "python",
   "pygments_lexer": "ipython3",
   "version": "3.12.7"
  }
 },
 "nbformat": 4,
 "nbformat_minor": 5
}
