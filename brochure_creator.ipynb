{
 "cells": [
  {
   "cell_type": "markdown",
   "id": "fa810453",
   "metadata": {},
   "source": [
    "# 🚀 **Automated Company Brochure Generator**\n",
    "\n",
    "Generate professional, concise company brochures in seconds—powered by advanced AI and real-time web scraping.  \n",
    "Just enter a company name and website: our tool gathers, summarizes, and formats content into a polished, ready-to-use Markdown brochure."
   ]
  },
  {
   "cell_type": "markdown",
   "id": "73f873cb",
   "metadata": {},
   "source": [
    "## 📦1. Importing Essential Libraries\n",
    "\n",
    "In this cell, we bring in all the crucial libraries needed for:\n",
    "\n",
    "- **Environment management** (`os`, `dotenv`)\n",
    "- **HTTP requests and data parsing** (`requests`, `json`, `BeautifulSoup`)\n",
    "- **Web scraping & automation** (`selenium`)\n",
    "- **Networking utilities** (`socket`, `ipaddress`)\n",
    "- **OpenAI and Gradio Integration** (`openai`, `gradio`)\n",
    "- **Web display and markdown rendering** (`IPython.display`)\n",
    "\n",
    "These imports lay the foundation for the brochure generation and interaction capabilities of this notebook.\n"
   ]
  },
  {
   "cell_type": "code",
   "execution_count": 1,
   "id": "d97f52c1",
   "metadata": {},
   "outputs": [],
   "source": [
    "import os\n",
    "import requests\n",
    "import json\n",
    "import socket\n",
    "import ipaddress\n",
    "from typing import List\n",
    "from dotenv import load_dotenv\n",
    "from bs4 import BeautifulSoup\n",
    "from urllib.parse import urlparse\n",
    "from IPython.display import display, Markdown, update_display\n",
    "from openai import OpenAI\n",
    "from selenium import webdriver\n",
    "from selenium.webdriver.chrome.options import Options\n",
    "from selenium.webdriver.chrome.service import Service\n",
    "from selenium.common.exceptions import WebDriverException\n",
    "from webdriver_manager.chrome import ChromeDriverManager\n",
    "import gradio as gr"
   ]
  },
  {
   "cell_type": "markdown",
   "id": "88aabd20",
   "metadata": {},
   "source": [
    "## 🔐2. Loading API Keys & Base URL\n",
    "\n",
    "This section ensures we have access to the necessary **GROQ API credentials** by:\n",
    "\n",
    "- Loading variables from a `.env` file using `load_dotenv`\n",
    "- Fetching the `GROQ_API_KEY` and `BASE_URL`\n",
    "- Checking and validating the presence and format of the API key\n",
    "\n",
    "✅ If everything checks out, you're ready to access the GROQ API!\n"
   ]
  },
  {
   "cell_type": "code",
   "execution_count": 2,
   "id": "0c93c9c1",
   "metadata": {},
   "outputs": [
    {
     "name": "stdout",
     "output_type": "stream",
     "text": [
      "API key found and looks good so far!\n"
     ]
    }
   ],
   "source": [
    "load_dotenv(override=True)\n",
    "API_KEY = os.getenv(\"GROQ_API_KEY\")\n",
    "BASE_URL = os.getenv(\"GROQ_BASE_URL\")\n",
    "\n",
    "if not API_KEY:\n",
    "    print(\"No API_Key found, Please set the API_KEY.\")\n",
    "    exit(1)\n",
    "elif API_KEY.strip() != API_KEY:\n",
    "    print(\"An API key was found, but it looks like it might have space or tab characters at the start or end - please remove them - see troubleshooting notebook\")\n",
    "else:\n",
    "    print(\"API key found and looks good so far!\")\n"
   ]
  },
  {
   "cell_type": "markdown",
   "id": "f3bd197b",
   "metadata": {},
   "source": [
    "## ⚙️3. Configuring the LLM Client\n",
    "\n",
    "This cell sets the **language model** to use (`llama3-70b-8192`) and instantiates the GROQ-compatible OpenAI client. These settings are essential for programmatic access to the AI model used in downstream prompt-based automation.\n"
   ]
  },
  {
   "cell_type": "code",
   "execution_count": 3,
   "id": "83c86527",
   "metadata": {},
   "outputs": [],
   "source": [
    "MODEL = \"llama3-70b-8192\"\n",
    "groq_client = OpenAI(api_key=API_KEY, base_url =BASE_URL)"
   ]
  },
  {
   "cell_type": "markdown",
   "id": "9915b853",
   "metadata": {},
   "source": [
    "## 🌐4. Website Content Extractor\n",
    "\n",
    "This cell defines utilities for safe URL detection and implements the `WebScraper` class using Selenium and BeautifulSoup. The extractor:\n",
    "\n",
    "- Validates URLs for security.\n",
    "- Loads and renders web pages.\n",
    "- Extracts the page title, primary text, images, links, and any HTML tables.\n",
    "- Returns a string summary of these elements for further processing.\n",
    "\n",
    "This forms the core data-acquisition module for our brochure generator.\n"
   ]
  },
  {
   "cell_type": "code",
   "execution_count": 4,
   "id": "46e6f95e",
   "metadata": {},
   "outputs": [],
   "source": [
    "\"\"\"\n",
    "Explanation of this code: https://chatgpt.com/share/686f8aed-a210-8007-970d-37906975fa4f\n",
    "\"\"\"\n",
    "\n",
    "\n",
    "def is_safe_url(url):\n",
    "    try:\n",
    "        parsed = urlparse(url)\n",
    "        if parsed.scheme not in [\"http\", \"https\"] or parsed.netloc == \"\":\n",
    "            return False\n",
    "\n",
    "        host = parsed.hostname\n",
    "        ip = ipaddress.ip_address(socket.gethostbyname(host))\n",
    "        if ip.is_private or ip.is_loopback or ip.is_reserved or ip.is_link_local:\n",
    "            return False\n",
    "    except Exception:\n",
    "        return False\n",
    "    return True\n",
    "\n",
    "\n",
    "class WebScraper:\n",
    "    \"\"\"\n",
    "    A utility class to represent a Website that we have scraped, using Selenium, with extracted links.\n",
    "    \"\"\"\n",
    "\n",
    "    def __init__(self, url):\n",
    "        if not is_safe_url(url):\n",
    "            raise ValueError(\"Invalid or unsafe URL\")\n",
    "\n",
    "        self.url = url\n",
    "        self.title = \"No title found\"\n",
    "        self.text = \"\"\n",
    "        self.links = []\n",
    "        self.images = []\n",
    "        self.files = []\n",
    "        self.tables = []\n",
    "\n",
    "        # Setup Selenium\n",
    "        options = Options()\n",
    "        options.add_argument(\"--headless\")\n",
    "        options.add_argument(\"--disable-gpu\")\n",
    "        options.add_argument(\"--no-sandbox\")\n",
    "        options.add_argument(\"--disable-dev-shm-usage\")\n",
    "        options.add_argument(\"--disable-extensions\")\n",
    "        options.add_argument(\"--disable-blink-features=AutomationControlled\")\n",
    "\n",
    "        driver = webdriver.Chrome(service=Service(ChromeDriverManager().install()), options=options)\n",
    "\n",
    "        try:\n",
    "            driver.set_page_load_timeout(60)\n",
    "            driver.get(url)\n",
    "            soup = BeautifulSoup(driver.page_source, \"html.parser\")\n",
    "\n",
    "            # Get title\n",
    "            self.title = soup.title.string.strip() if soup.title else \"No title found\"\n",
    "\n",
    "            # Remove irrelevant tags\n",
    "            if soup.body:\n",
    "                for tag in soup.body([\"script\", \"style\", \"input\"]):\n",
    "                    tag.decompose()\n",
    "                self.text = soup.body.get_text(strip=True)\n",
    "\n",
    "            # Extract all Images\n",
    "            all_images = [img.get(\"src\") for img in soup.find_all(\"img\") if img.get(\"src\")]\n",
    "            self.images = all_images\n",
    "\n",
    "            # Extract all valid links\n",
    "            all_links = [a.get(\"href\") for a in soup.find_all(\"a\") if a.get(\"href\") and is_safe_url(a.get(\"href\"))]\n",
    "            self.links = all_links\n",
    "\n",
    "            # Extract all tables\n",
    "            all_tables = [table for table in soup.find_all(\"table\")]\n",
    "            self.tables = all_tables\n",
    "\n",
    "\n",
    "        except WebDriverException as e:\n",
    "            print(f\"Error loading page with Selenium: {e}\")\n",
    "        finally:\n",
    "            driver.quit()\n",
    "\n",
    "    def get_contents(self):\n",
    "        return f\"-> Webpage Title:\\n{self.title}\\n\\n\\n-> Webpage Contents (limited text displayed up to 1000 characters):\\n{self.text[:1000]}\\n\\n\\n-> Links (limited to 20 links displayed):\\n{self.links[:20]}\\n\\n\\n-> Images:\\n{self.images}\\n\\n\\n-> Tables:\\n{self.tables}\\n\\n\\n\"\n"
   ]
  },
  {
   "cell_type": "markdown",
   "id": "7f938d44",
   "metadata": {},
   "source": [
    "## 🛠️ Example: Scraping a Webpage\n",
    "\n",
    "Here, we instantiate the `WebScraper` class with a sample company site URL. The extracted title, snippet of content, a sample of found links, and images are printed. This demonstrates the result of basic website scraping before automation.\n"
   ]
  },
  {
   "cell_type": "code",
   "execution_count": 5,
   "id": "f3a08f32",
   "metadata": {},
   "outputs": [
    {
     "name": "stdout",
     "output_type": "stream",
     "text": [
      "-> Webpage Title:\n",
      "Full stack Development Company - Microweb Software Pvt Ltd\n",
      "\n",
      "\n",
      "-> Webpage Contents (limited text displayed up to 1000 characters):\n",
      "HomeAboutCasesServicesTechnologyTechnology SubCloud Application Development ServicesAzure DevOps ServicesAI & ML ServicesShopify DevelopmentGolang Development ServicesDevOps Consulting ServicesWebflow DevelopmentBusiness TransformationLaravel Application DevelopmentSymfony Web DevelopmentNode.js DevelopmentAngularJs Web Development ServicesRuby on Rails Application DevelopmentMicrosoft DevelopmentMobile Application DevelopmentIoT and Embedded Systems & Smart SolutionsCloud TechnologyReactJS DevelopmentDrupal Web Development Services2D and 3D Video AnimationUI & UX DesignWeb DevelopmentEnterprise SolutionsDigital MarketingSoftware Outsource to IndiaGraphic DesigningeCommerce DevelopmentWordPress DevelopmentWooCommerce DevelopmentShopify DevelopmentPython DevelopmentGet in touchGet in touchWe Build Brilliance!WhoMicroweb software specializes in translating digital challenges into seamless strategies. Strategies that deliver!We make sites, apps and digital platforms. The end user experien\n",
      "\n",
      "\n",
      "-> Links (limited to 20 links displayed):\n",
      "['https://www.microwebtec.com', 'https://www.microwebtec.com/', 'https://www.microwebtec.com/about/', 'https://www.microwebtec.com/cases/', 'https://www.microwebtec.com/services/', 'https://www.microwebtec.com/technologies/cloud-application-development-services/', 'https://www.microwebtec.com/technologies/azure-devops-services/', 'https://www.microwebtec.com/technologies/ai-ml-services/', 'https://www.microwebtec.com/technologies/shopify-development/', 'https://www.microwebtec.com/technologies/golang-development-services/', 'https://www.microwebtec.com/technologies/devops-consulting-services/', 'https://www.microwebtec.com/technologies/webflow-development/', 'https://www.microwebtec.com/business-transformation/', 'https://www.microwebtec.com/technologies/laravel-application-development/', 'https://www.microwebtec.com/technologies/symfony-web-development/', 'https://www.microwebtec.com/technologies/node-js-development/', 'https://www.microwebtec.com/technologies/angularjs-web-development-services/', 'https://www.microwebtec.com/technologies/ruby-on-rails-development/', 'https://www.microwebtec.com/technologies/microsoft-development/', 'https://www.microwebtec.com/technologies/mobile-application-development/']\n",
      "\n",
      "\n",
      "-> Images:\n",
      "['https://www.microwebtec.com/wp-content/uploads/2023/11/logo.png', 'https://www.microwebtec.com/wp-content/uploads/2024/12/MW-Web-Banner-4.jpg', 'https://www.microwebtec.com/wp-content/uploads/2024/12/MW-Web-Banner-5.jpg', 'https://www.microwebtec.com/wp-content/uploads/2024/12/MW-Web-Banner-3.jpg', 'https://www.microwebtec.com/wp-content/uploads/2023/11/logo.png', 'https://www.microwebtec.com/wp-content/uploads/2023/12/laravel_f.svg', 'https://www.microwebtec.com/wp-content/uploads/2023/12/symfony_f.svg', 'https://www.microwebtec.com/wp-content/uploads/2023/12/drupal_f.svg', 'https://www.microwebtec.com/wp-content/uploads/2023/12/wordpress_f.svg', 'https://www.microwebtec.com/wp-content/uploads/2023/12/angularjs_f.svg', 'https://www.microwebtec.com/wp-content/uploads/2023/12/nodejs_f.svg', 'https://www.microwebtec.com/wp-content/uploads/2023/12/vuejs_f.svg', 'https://www.microwebtec.com/wp-content/uploads/2023/12/adobe-illustrator_f.svg', 'https://www.microwebtec.com/wp-content/uploads/2023/12/adobe-photoshop_f.svg', 'https://www.microwebtec.com/wp-content/uploads/2023/12/figma_f.svg', 'https://www.microwebtec.com/wp-content/uploads/2023/12/python_f.svg', 'https://www.microwebtec.com/wp-content/uploads/2023/12/rails_f.svg', 'https://www.microwebtec.com/wp-content/uploads/2023/12/microsoft_365_f.svg', 'https://www.microwebtec.com/wp-content/uploads/2023/12/dotnet_f.svg', 'https://www.microwebtec.com/wp-content/uploads/2023/11/Linkedin.svg', 'https://www.microwebtec.com/wp-content/uploads/2023/11/Facebook.svg', 'https://www.microwebtec.com/wp-content/uploads/2023/11/Twitter.svg', 'https://www.microwebtec.com/wp-content/uploads/2023/11/Instagram.svg', 'https://www.microwebtec.com/wp-content/uploads/2025/06/proud-bni-logo.jpg', 'https://www.microwebtec.com/wp-content/uploads/2024/11/Ahmedabad-city-e1732692367730.png', 'https://www.microwebtec.com/wp-content/themes/microweb/images/arrow_black.png', 'https://www.microwebtec.com/wp-content/themes/microweb/images/arrow_white.png', 'https://www.microwebtec.com/wp-content/themes/microweb/images/grey-logo-loader.png', 'https://www.microwebtec.com/wp-content/themes/microweb/images/logo-loader.png', 'https://www.microwebtec.com/wp-content/themes/microweb/images/logo_black.png', 'https://www.microwebtec.com/wp-content/uploads/wpcf7_captcha/2665949016.png']\n",
      "\n",
      "\n",
      "-> Tables:\n",
      "[]\n",
      "\n",
      "\n",
      "\n"
     ]
    }
   ],
   "source": [
    "website = WebScraper(\"https://www.microwebtec.com/\")\n",
    "print(website.get_contents())\n",
    "# # website.links\n"
   ]
  },
  {
   "cell_type": "markdown",
   "id": "dfbd12ee",
   "metadata": {},
   "source": [
    "## 🤖5. LLM Prompt Template for Relevant Links\n",
    "\n",
    "This cell builds the **system prompt** for the LLM describing how to choose only the most brochure-relevant links (About, Careers, etc.) from all URLs discovered on the home page.\n",
    "\n",
    "It also defines `link_user_prompt_for(website)`, which dynamically assembles a per-site list of links for the LLM to select from.\n"
   ]
  },
  {
   "cell_type": "code",
   "execution_count": 6,
   "id": "694c1b70",
   "metadata": {},
   "outputs": [],
   "source": [
    "link_system_prompt = (\n",
    "    \"You are provided with a list of links found on a webpage. \"\n",
    "    \"You are able to decide which of the links would be most relevant to include in a brochure about the company, \"\n",
    "    \"such as links to an About page, or a Company page, or Careers/Jobs pages.\\n\"\n",
    "    \"You should respond in JSON as in this example:\"\n",
    ")\n",
    "link_system_prompt += \"\"\"\n",
    "{\n",
    "    \"links\": [\n",
    "        {\"type\": \"about page\", \"url\": \"https://full.url/goes/here/about\"},\n",
    "        {\"type\": \"careers page\", \"url\": \"https://another.full.url/careers\"}\n",
    "    ]\n",
    "}\n",
    "\"\"\"\n",
    "\n",
    "def link_user_prompt_for(website):\n",
    "    user_prompt = (\n",
    "        f\"Here is the list of links on the website of {website.url} - please decide which of these are relevant web links for a brochure about the company, \"\n",
    "        f\"respond with the full https URL in JSON format. Do not include Terms of Service, Privacy, email links.\\n\\n\"\n",
    "        \"Links (some might be relative links):\\n\"\n",
    "    )\n",
    "    user_prompt += \"\\n\".join(website.links)\n",
    "    return user_prompt\n"
   ]
  },
  {
   "cell_type": "code",
   "execution_count": 7,
   "id": "18ccce0d",
   "metadata": {},
   "outputs": [],
   "source": [
    "# print(link_user_prompt_for(website))"
   ]
  },
  {
   "cell_type": "markdown",
   "id": "847cc1f0",
   "metadata": {},
   "source": [
    "## 🚦6. Selecting the Most Relevant Links with LLM\n",
    "\n",
    "This function, `get_links(url)`, uses the LLM to select and return only those subpage URLs truly relevant for brochure content. It:\n",
    "- Scrapes the given URL for links,\n",
    "- Prompts the LLM with the list and the boilerplate examples,\n",
    "- Expects a standardized JSON object with \"type\" and \"url\" for About, Careers, etc.\n",
    "\n",
    "Ensures brochure content is both concise and complete.\n"
   ]
  },
  {
   "cell_type": "code",
   "execution_count": 8,
   "id": "d1559547",
   "metadata": {},
   "outputs": [],
   "source": [
    "def get_links(url):\n",
    "    website= WebScraper(url)\n",
    "    response = groq_client.chat.completions.create(\n",
    "        model = MODEL,\n",
    "        messages = [\n",
    "            {\"role\": \"system\",\"content\": link_system_prompt},\n",
    "            {\"role\": \"user\", \"content\": link_user_prompt_for(website)}\n",
    "        ],\n",
    "        response_format = {\"type\": \"json_object\"}\n",
    "    )\n",
    "    result = response.choices[0].message.content\n",
    "    return json.loads(result)"
   ]
  },
  {
   "cell_type": "code",
   "execution_count": 9,
   "id": "01d169d7",
   "metadata": {},
   "outputs": [],
   "source": [
    "# get_links(\"https://www.microwebtec.com\")"
   ]
  },
  {
   "cell_type": "markdown",
   "id": "b8173635",
   "metadata": {},
   "source": [
    "## 🔄7. Aggregate All Relevant Page Contents\n",
    "\n",
    "Defines `get_all_details(url)`, which scrapes the landing page, uses the LLM to select additional key subpages (like About, Careers), scrapes those as well, and aggregates their contents into a single formatted string. This prepares the unified company dataset for brochure generation.\n"
   ]
  },
  {
   "cell_type": "code",
   "execution_count": 10,
   "id": "82e96afe",
   "metadata": {},
   "outputs": [],
   "source": [
    "def get_all_details(url):\n",
    "    result = \"Landing page:\\n\"\n",
    "    result += WebScraper(url).get_contents()\n",
    "    links = get_links(url)\n",
    "    print(\"Found links:\", links)\n",
    "    for link in links[\"links\"]:\n",
    "        result += f\"\\n\\n{link['type']}\\n\"\n",
    "        result += WebScraper(link[\"url\"]).get_contents()\n",
    "    return result"
   ]
  },
  {
   "cell_type": "code",
   "execution_count": 11,
   "id": "0dfe2efe",
   "metadata": {},
   "outputs": [],
   "source": [
    "# print(get_all_details(\"https://www.microwebtec.com\"))"
   ]
  },
  {
   "cell_type": "markdown",
   "id": "c11096a9",
   "metadata": {},
   "source": [
    "## 📝8. Construct Brochure Generation Prompts\n",
    "\n",
    "This section sets up:\n",
    "- The **system prompt** instructing the LLM to create a concise, informative Markdown brochure for customers, investors, and recruits.\n",
    "- The `brochure_user_prompt` function, which packages aggregated company content and detailed requirements into a clean input for the LLM.\n",
    "\n",
    "This is the workflow's final prep before brochure synthesis.\n"
   ]
  },
  {
   "cell_type": "code",
   "execution_count": 12,
   "id": "a5ed7b16",
   "metadata": {},
   "outputs": [],
   "source": [
    "brochure_system_prompt = (\n",
    "    \"You are an assistant that analyzes the contents of several relevant pages from a company website \"\n",
    "    \"and creates a short, compelling brochure about the company. \"\n",
    "    \"Your audience includes prospective customers, investors, and potential recruits. \"\n",
    "    \"Respond in clear, well-formatted Markdown. \"\n",
    "    \"Include information about the company's mission, products or services, culture and values, key customers or partners, and careers/jobs if that information is available.\"\n",
    ")\n",
    "\n",
    "def brochure_user_prompt(company_name, url):\n",
    "    content = get_all_details(url)\n",
    "    content = content[:5_000]  # Truncate content to 5,000 characters\n",
    "\n",
    "    user_prompt = (\n",
    "        f\"You are looking at a company called: **{company_name}**\\n\\n\"\n",
    "        f\"Below is the content gathered from the company's landing page and other relevant subpages (such as About, Careers, and Press).\\n\"\n",
    "        f\"Use this content to generate a **concise, informative brochure** in **Markdown format** for prospective **customers, investors, and potential recruits**.\\n\\n\"\n",
    "        f\"The brochure should aim to:\\n\"\n",
    "        f\"- Describe what the company does\\n\"\n",
    "        f\"- Highlight company culture and values (if available)\\n\"\n",
    "        f\"- Mention notable customers or partners\\n\"\n",
    "        f\"- Include a summary of career opportunities or team info if relevant\\n\\n\"\n",
    "        f\"### Company Website Content:\\n\\n\"\n",
    "        f\"{content}\"\n",
    "    )\n",
    "    return user_prompt\n"
   ]
  },
  {
   "cell_type": "markdown",
   "id": "3562538b",
   "metadata": {},
   "source": [
    "## 🏗️9. Brochure Generation\n",
    "\n",
    "This section is meant to contain the LLM call and brochure assembly, but the function is currently incomplete.\n",
    "\n",
    "To complete: Implement a function that combines `brochure_user_prompt`, sends it (along with the system prompt) to the LLM, and returns the Markdown brochure text for downstream display or export.\n"
   ]
  },
  {
   "cell_type": "code",
   "execution_count": 13,
   "id": "60ed5cce",
   "metadata": {},
   "outputs": [],
   "source": [
    "def create_brochure(company_name, url):\n",
    "    try:\n",
    "        streamed_response = groq_client.chat.completions.create(\n",
    "            model=MODEL,\n",
    "            messages=[\n",
    "                {\"role\": \"system\", \"content\": brochure_system_prompt},\n",
    "                {\"role\": \"user\", \"content\": brochure_user_prompt(company_name, url)}\n",
    "            ],\n",
    "            stream=True  # ✅ Required for iteration!\n",
    "        )\n",
    "        result = \"\"\n",
    "        for chunk in streamed_response:\n",
    "            content_piece = chunk.choices[0].delta.content or \"\"\n",
    "            result += content_piece\n",
    "            cleaned_result = result.replace(\"```\", \"\").replace(\"markdown\", \"\")\n",
    "            yield cleaned_result  # <- Streaming to Gradio\n",
    "\n",
    "    except Exception as e:\n",
    "        yield f\"[LLM Error] {e}\"  # <- yield for Gradio to handle the stream"
   ]
  },
  {
   "cell_type": "code",
   "execution_count": 14,
   "id": "bfe65f72",
   "metadata": {},
   "outputs": [],
   "source": [
    "# create_brochure(\"Microweb Software\", \"https://www.microwebtech.com\")"
   ]
  },
  {
   "cell_type": "code",
   "execution_count": 15,
   "id": "36e6ea94",
   "metadata": {},
   "outputs": [],
   "source": [
    "# create_brochure(\"Gopal Info\", \"https://www.gopalinfo.com\")"
   ]
  },
  {
   "cell_type": "markdown",
   "id": "50666d80",
   "metadata": {},
   "source": [
    "## 🖥️10. Building an Interactive Gradio UI\n",
    "\n",
    "This cell creates an interactive **web-based interface** for brochure generation using Gradio, integrated within the Jupyter notebook. The UI includes:\n",
    "\n",
    "- **Input fields** for the Company Name and Company Website URL, allowing users to easily provide the information required for brochure creation.\n",
    "- A **'Generate Brochure' button** which, when clicked, runs the full brochure generation pipeline—from web scraping and LLM-powered summarization to markdown formatting.\n",
    "- An **output area** where the generated markdown brochure is displayed within the notebook.\n",
    "\n",
    "Gradio is used here to wrap the end-to-end workflow into a simple, user-friendly experience, making brochure generation accessible even to users without coding knowledge. The interface launches inside the Jupyter environment and can also be optionally shared as a public link."
   ]
  },
  {
   "cell_type": "code",
   "execution_count": 16,
   "id": "4bd62a1b",
   "metadata": {},
   "outputs": [
    {
     "name": "stdout",
     "output_type": "stream",
     "text": [
      "* Running on local URL:  http://127.0.0.1:7860\n",
      "* Running on public URL: https://d80a816e586391b1ba.gradio.live\n",
      "\n",
      "This share link expires in 1 week. For free permanent hosting and GPU upgrades, run `gradio deploy` from the terminal in the working directory to deploy to Hugging Face Spaces (https://huggingface.co/spaces)\n"
     ]
    },
    {
     "data": {
      "text/html": [
       "<div><iframe src=\"https://d80a816e586391b1ba.gradio.live\" width=\"100%\" height=\"500\" allow=\"autoplay; camera; microphone; clipboard-read; clipboard-write;\" frameborder=\"0\" allowfullscreen></iframe></div>"
      ],
      "text/plain": [
       "<IPython.core.display.HTML object>"
      ]
     },
     "metadata": {},
     "output_type": "display_data"
    },
    {
     "data": {
      "text/plain": []
     },
     "execution_count": 16,
     "metadata": {},
     "output_type": "execute_result"
    }
   ],
   "source": [
    "view = gr.Interface(\n",
    "    fn=create_brochure,\n",
    "    inputs = [\n",
    "        gr.Textbox(label='Company Name:'),\n",
    "        gr.Textbox(label=\"Landing page URL including http:// or https://\"),\n",
    "    ],\n",
    "    outputs = [gr.Markdown(label='Brochure')],\n",
    "    title='Brochure Generator',\n",
    "    description='This is a brochure generator',\n",
    "    flagging_mode = 'never',\n",
    "    # js = force_dark_mode\n",
    ")\n",
    "view.launch(share=True)"
   ]
  }
 ],
 "metadata": {
  "kernelspec": {
   "display_name": "base",
   "language": "python",
   "name": "python3"
  },
  "language_info": {
   "codemirror_mode": {
    "name": "ipython",
    "version": 3
   },
   "file_extension": ".py",
   "mimetype": "text/x-python",
   "name": "python",
   "nbconvert_exporter": "python",
   "pygments_lexer": "ipython3",
   "version": "3.12.7"
  }
 },
 "nbformat": 4,
 "nbformat_minor": 5
}
