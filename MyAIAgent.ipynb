{
 "cells": [
  {
   "cell_type": "code",
   "execution_count": 1,
   "id": "3e1ab8c9",
   "metadata": {},
   "outputs": [],
   "source": [
    "import os\n",
    "import requests\n",
    "from dotenv import load_dotenv\n",
    "from openai import OpenAI\n",
    "from urllib.parse import urlparse"
   ]
  },
  {
   "cell_type": "code",
   "execution_count": null,
   "id": "bfd381b0",
   "metadata": {},
   "outputs": [
    {
     "name": "stdout",
     "output_type": "stream",
     "text": [
      "API key found and looks good so far!\n"
     ]
    }
   ],
   "source": [
    "load_dotenv(override=True)\n",
    "api_key = os.getenv(\"GROQ_API_KEY\")\n",
    "\n",
    "if not api_key:\n",
    "    print(\"No API_Key found, Please set the API_KEY.\")\n",
    "    exit(1)\n",
    "elif api_key.strip() != api_key:\n",
    "    print(\"An API key was found, but it looks like it might have space or tab characters at the start or end - please remove them - see troubleshooting notebook\")\n",
    "else:\n",
    "    print(\"API key found and looks good so far!\")\n",
    "\n",
    "\n",
    "openai = OpenAI(api_key=api_key, base_url=\"https://api.groq.com/openai/v1\") \n",
    "ollama_with_openai = OpenAI(api_key=\"ollama\", base_url=\"http://localhost:11434/v1\") "
   ]
  },
  {
   "cell_type": "code",
   "execution_count": null,
   "id": "fd890321",
   "metadata": {},
   "outputs": [],
   "source": [
    "def is_safe_url(url):\n",
    "    parsed = urlparse(url)\n",
    "    if parsed.scheme not in [\"http\", \"https\"] or parsed.netloc != \"\":\n",
    "        return False\n",
    "    if parsed.hostname in [\"localhost\", \"127.0.0.1\"] or parsed.hostname.startswith(\"192.168.\") or parsed.hostname.startswith(\"10.\"):\n",
    "        return False    \n",
    "    return True"
   ]
  }
 ],
 "metadata": {
  "kernelspec": {
   "display_name": "base",
   "language": "python",
   "name": "python3"
  },
  "language_info": {
   "codemirror_mode": {
    "name": "ipython",
    "version": 3
   },
   "file_extension": ".py",
   "mimetype": "text/x-python",
   "name": "python",
   "nbconvert_exporter": "python",
   "pygments_lexer": "ipython3",
   "version": "3.12.7"
  }
 },
 "nbformat": 4,
 "nbformat_minor": 5
}
