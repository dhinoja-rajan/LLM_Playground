{
 "cells": [
  {
   "cell_type": "code",
   "execution_count": null,
   "id": "ef27ace6",
   "metadata": {},
   "outputs": [
    {
     "name": "stdout",
     "output_type": "stream",
     "text": [
      "[✓] Downloaded: https://i0.wp.com/edwarddonner.com/wp-content/uploads/2023/12/cropped-edworkprofile2.png?fit=1128%2C1128&ssl=1\n",
      "[!] Failed to process image: https://i0.wp.com/edwarddonner.com/wp-content/uploads/2023/12/cropped-edworkprofile2.png?fit=1128%2C1128&ssl=1, Error: ReplicateError Details:\n",
      "title: Invalid version or not permitted\n",
      "status: 422\n",
      "detail: The specified version does not exist (or perhaps you don't have permission to use it?)\n",
      "[✓] Downloaded: https://edwarddonner.com/wp-content/uploads/2025/05/exec-copy2.jpeg\n",
      "[!] Failed to process image: https://edwarddonner.com/wp-content/uploads/2025/05/exec-copy2.jpeg, Error: ReplicateError Details:\n",
      "title: Invalid version or not permitted\n",
      "status: 422\n",
      "detail: The specified version does not exist (or perhaps you don't have permission to use it?)\n",
      "[✓] Downloaded: https://edwarddonner.com/wp-content/uploads/2025/05/exec.png\n",
      "[!] Failed to process image: https://edwarddonner.com/wp-content/uploads/2025/05/exec.png, Error: ReplicateError Details:\n",
      "title: Invalid version or not permitted\n",
      "status: 422\n",
      "detail: The specified version does not exist (or perhaps you don't have permission to use it?)\n",
      "[✓] Downloaded: https://edwarddonner.com/wp-content/uploads/2025/04/autonomy.png\n",
      "[!] Failed to process image: https://edwarddonner.com/wp-content/uploads/2025/04/autonomy.png, Error: ReplicateError Details:\n",
      "title: Invalid version or not permitted\n",
      "status: 422\n",
      "detail: The specified version does not exist (or perhaps you don't have permission to use it?)\n",
      "[✓] Downloaded: https://edwarddonner.com/wp-content/uploads/2025/01/handson.jpg\n",
      "[!] Failed to process image: https://edwarddonner.com/wp-content/uploads/2025/01/handson.jpg, Error: ReplicateError Details:\n",
      "title: Invalid version or not permitted\n",
      "status: 422\n",
      "detail: The specified version does not exist (or perhaps you don't have permission to use it?)\n"
     ]
    }
   ],
   "source": [
    "import os\n",
    "import requests\n",
    "from bs4 import BeautifulSoup\n",
    "from urllib.parse import urljoin\n",
    "import replicate\n",
    "\n",
    "# Set your Replicate API token\n",
    "os.environ[\"REPLICATE_API_TOKEN\"] = \"r8_d91fRwN8x9lrsB1YsfnAOH8LBvAumsx0XPbeE\"\n",
    "\n",
    "# Set the website URL you want to scrape\n",
    "url = \"https://edwarddonner.com\"\n",
    "\n",
    "# Create folder for images\n",
    "os.makedirs(\"images\", exist_ok=True)\n",
    "\n",
    "# Scrape image URLs\n",
    "response = requests.get(url)\n",
    "soup = BeautifulSoup(response.text, 'html.parser')\n",
    "img_tags = soup.find_all('img')\n",
    "\n",
    "# Download and caption each image\n",
    "for idx, img in enumerate(img_tags):\n",
    "    src = img.get('src')\n",
    "    img_url = urljoin(url, src)\n",
    "\n",
    "    try:\n",
    "        # Download image\n",
    "        img_data = requests.get(img_url).content\n",
    "        img_path = f\"images/image_{idx}.jpg\"\n",
    "        with open(img_path, 'wb') as f:\n",
    "            f.write(img_data)\n",
    "        print(f\"[✓] Downloaded: {img_url}\")\n",
    "\n",
    "        # Caption using Replicate BLIP model\n",
    "        output = replicate.run(\n",
    "            \"salesforce/blip:6c8e6cc1cfc0b32896efba40f7c3d9853f1dc4f3db6df0a8332b9cb5c5043d17\",\n",
    "            input={\"image\": open(img_path, \"rb\")}\n",
    "        )\n",
    "\n",
    "        print(f\"🖼️  Image_{idx}: {output}\\n\")\n",
    "\n",
    "    except Exception as e:\n",
    "        print(f\"[!] Failed to process image: {img_url}, Error: {e}\")\n"
   ]
  }
 ],
 "metadata": {
  "kernelspec": {
   "display_name": "base",
   "language": "python",
   "name": "python3"
  },
  "language_info": {
   "codemirror_mode": {
    "name": "ipython",
    "version": 3
   },
   "file_extension": ".py",
   "mimetype": "text/x-python",
   "name": "python",
   "nbconvert_exporter": "python",
   "pygments_lexer": "ipython3",
   "version": "3.12.7"
  }
 },
 "nbformat": 4,
 "nbformat_minor": 5
}
