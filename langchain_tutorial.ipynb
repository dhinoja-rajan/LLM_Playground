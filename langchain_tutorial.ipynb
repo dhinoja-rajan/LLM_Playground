{
 "cells": [
  {
   "cell_type": "code",
   "execution_count": 1,
   "id": "44d70d87",
   "metadata": {},
   "outputs": [],
   "source": [
    "# pip install langchain langchain_community"
   ]
  },
  {
   "cell_type": "code",
   "execution_count": 2,
   "id": "fe6b0259",
   "metadata": {},
   "outputs": [],
   "source": [
    "import openai\n",
    "import os\n",
    "import langchain\n",
    "from dotenv import load_dotenv\n",
    "from IPython.display import Markdown, display\n",
    "from langchain.chat_models import ChatOpenAI\n",
    "from langchain.schema import HumanMessage\n",
    "from langchain.prompts import PromptTemplate\n",
    "from langchain.chains import LLMChain\n",
    "from langchain.chains import SimpleSequentialChain\n",
    "from langchain.chains import SequentialChain\n",
    "from langchain.agents import AgentType, initialize_agent, load_tools\n",
    "from langchain.llms import OpenAI\n",
    "from langchain.chains import ConversationChain\n",
    "from langchain.memory import ConversationBufferWindowMemory\n",
    "from langchain.embeddings.openai import OpenAIEmbeddings\n",
    "from langchain.vectorstores import Chroma"
   ]
  },
  {
   "cell_type": "code",
   "execution_count": 3,
   "id": "2fcd9aae",
   "metadata": {},
   "outputs": [
    {
     "name": "stdout",
     "output_type": "stream",
     "text": [
      "API key found and looks good so far!\n"
     ]
    }
   ],
   "source": [
    "load_dotenv(override=True)\n",
    "\n",
    "API_KEY=os.getenv(\"GROQ_API_KEY\")\n",
    "BASE_URL=\"https://api.groq.com/openai/v1\"\n",
    "\n",
    "MODEL=\"llama3-70b-8192\"\n",
    "\n",
    "if not API_KEY:\n",
    "    print(\"No API_Key found, Please set the API_KEY.\")\n",
    "    exit(1)\n",
    "elif API_KEY.strip() != API_KEY:\n",
    "    print(\"An API key was found, but it looks like it might have space or tab characters at the start or end - please remove them - see troubleshooting notebook\")\n",
    "else:\n",
    "    print(\"API key found and looks good so far!\")"
   ]
  },
  {
   "cell_type": "code",
   "execution_count": 4,
   "id": "2aedaf49",
   "metadata": {},
   "outputs": [
    {
     "name": "stderr",
     "output_type": "stream",
     "text": [
      "C:\\Users\\rajan\\AppData\\Local\\Temp\\ipykernel_21756\\3736855045.py:1: LangChainDeprecationWarning: The class `ChatOpenAI` was deprecated in LangChain 0.0.10 and will be removed in 1.0. An updated version of the class exists in the :class:`~langchain-openai package and should be used instead. To use it run `pip install -U :class:`~langchain-openai` and import as `from :class:`~langchain_openai import ChatOpenAI``.\n",
      "  llm = ChatOpenAI(api_key=API_KEY, base_url=BASE_URL, model=MODEL, temperature=0.6)\n"
     ]
    }
   ],
   "source": [
    "llm = ChatOpenAI(api_key=API_KEY, base_url=BASE_URL, model=MODEL, temperature=0.6)"
   ]
  },
  {
   "cell_type": "code",
   "execution_count": 5,
   "id": "21cfe320",
   "metadata": {},
   "outputs": [
    {
     "name": "stderr",
     "output_type": "stream",
     "text": [
      "C:\\Users\\rajan\\AppData\\Local\\Temp\\ipykernel_21756\\1598641334.py:1: LangChainDeprecationWarning: The method `BaseChatModel.__call__` was deprecated in langchain-core 0.1.7 and will be removed in 1.0. Use :meth:`~invoke` instead.\n",
      "  response = llm([HumanMessage(content=\"I want to open a restaurant for Italian Food. Suggest a fancy name for this...\")])\n"
     ]
    },
    {
     "name": "stdout",
     "output_type": "stream",
     "text": [
      "Buon appetito! Here are some fancy name suggestions for your Italian restaurant:\n",
      "\n",
      "1. **Bella Vita** - \"Beautiful Life\" in Italian, evoking the warmth and hospitality of Italy.\n",
      "2. **Fiorella's** - \"Little Flower\" in Italian, suggesting a delicate and charming dining experience.\n",
      "3. **Casa Italiano** - \"Italian House\" in Italian, conveying a sense of home and tradition.\n",
      "4. **Ristorante Toscano** - \"Tuscan Restaurant\" in Italian, highlighting the rich culinary heritage of Tuscany.\n",
      "5. **La Bella Italia** - \"Beautiful Italy\" in Italian, celebrating the beauty and diversity of Italian cuisine.\n",
      "6. **Vino e Vita** - \"Wine and Life\" in Italian, emphasizing the importance of wine in Italian culture.\n",
      "7. **Caffè Italiano** - \"Italian Coffee\" in Italian, hinting at the rich coffee culture of Italy.\n",
      "8. **Il Palio** - named after the famous horse race in Siena, Italy, suggesting a lively and festive atmosphere.\n",
      "9. **La Dolce Vita** - \"The Sweet Life\" in Italian, inspired by the classic Italian film, promising a delightful dining experience.\n",
      "10. **Bricco's** - derived from the Italian word \"bricco,\" meaning \"hill\" or \"ridge,\" suggesting a rustic, countryside-inspired eatery.\n",
      "11. **Casa di Cucina** - \"House of Cooking\" in Italian, emphasizing the importance of traditional Italian cooking techniques.\n",
      "12. **Ristorante Lombardi** - named after the Lombardy region in northern Italy, known for its rich culinary heritage.\n",
      "13. **La Strada** - \"The Street\" in Italian, suggesting a casual, welcoming atmosphere reminiscent of Italian street food.\n",
      "14. **Il Giardino** - \"The Garden\" in Italian, promising a fresh and vibrant dining experience.\n",
      "15. **Caffè e Cucina** - \"Coffee and Kitchen\" in Italian, highlighting the importance of coffee and food pairing.\n",
      "\n",
      "Choose the one that resonates with your vision and style, and buon fortuna (good luck) with your restaurant venture!\n"
     ]
    }
   ],
   "source": [
    "response = llm([HumanMessage(content=\"I want to open a restaurant for Italian Food. Suggest a fancy name for this...\")])\n",
    "print(response.content)\n"
   ]
  },
  {
   "cell_type": "code",
   "execution_count": 6,
   "id": "7ffeda89",
   "metadata": {},
   "outputs": [
    {
     "name": "stderr",
     "output_type": "stream",
     "text": [
      "C:\\Users\\rajan\\AppData\\Local\\Temp\\ipykernel_21756\\990543291.py:7: LangChainDeprecationWarning: The class `LLMChain` was deprecated in LangChain 0.1.17 and will be removed in 1.0. Use :meth:`~RunnableSequence, e.g., `prompt | llm`` instead.\n",
      "  name_chain = LLMChain(llm=llm, prompt=name_prompt_template)\n"
     ]
    }
   ],
   "source": [
    "name_prompt_template = PromptTemplate(\n",
    "    input_variables = ['cuisine'],\n",
    "    template = \"I want to open a restaurant for {cuisine} Food. Suggest a fancy name for this...\"\n",
    ")\n",
    "name_prompt_template.format(cuisine = \"italian\")\n",
    "\n",
    "name_chain = LLMChain(llm=llm, prompt=name_prompt_template)\n",
    "# name_chain.run(\"Indian\")\n",
    "\n",
    "\n",
    "food_items_prompt_template = PromptTemplate(\n",
    "    input_variables = ['restaurant_name'],\n",
    "    template = \"\"\"Suggest some menu items for a vegetarian restaurant, {restaurant_name}. Reutrn it as comma separated list...\"\"\"\n",
    ")\n",
    "food_items_prompt_template.format(restaurant_name = \"Tandoor Bites\")\n",
    "\n",
    "food_items_chain = LLMChain(llm=llm, prompt=food_items_prompt_template)\n",
    "# print(food_items_chain.run(\"Tandoor Bites\"))"
   ]
  },
  {
   "cell_type": "code",
   "execution_count": 7,
   "id": "b8e64093",
   "metadata": {},
   "outputs": [
    {
     "name": "stderr",
     "output_type": "stream",
     "text": [
      "C:\\Users\\rajan\\AppData\\Local\\Temp\\ipykernel_21756\\2649930681.py:2: LangChainDeprecationWarning: The method `Chain.run` was deprecated in langchain 0.1.0 and will be removed in 1.0. Use :meth:`~invoke` instead.\n",
      "  response=chain.run(\"Mexican\")\n"
     ]
    }
   ],
   "source": [
    "chain = SimpleSequentialChain(chains=[name_chain, food_items_chain])\n",
    "response=chain.run(\"Mexican\")\n",
    "# print(display(Markdown(response))) \n",
    "# print(response)"
   ]
  },
  {
   "cell_type": "code",
   "execution_count": 8,
   "id": "7e94fdca",
   "metadata": {},
   "outputs": [],
   "source": [
    "name_prompt_template = PromptTemplate(\n",
    "    input_variables = ['cuisine'],\n",
    "    template = \"I want to open a restaurant for {cuisine} Food. Suggest a fancy name for this...\"\n",
    ")\n",
    "name_prompt_template.format(cuisine = \"italian\")\n",
    "\n",
    "name_chain = LLMChain(llm=llm, prompt=name_prompt_template, output_key='restaurant_name')\n",
    "# name_chain.run(\"Indian\")\n",
    "\n",
    "\n",
    "food_items_prompt_template = PromptTemplate(\n",
    "    input_variables = ['restaurant_name'],\n",
    "    template = \"\"\"Suggest some menu items for a vegetarian restaurant, {restaurant_name}. Reutrn it as comma separated list...\"\"\"\n",
    ")\n",
    "food_items_prompt_template.format(restaurant_name = \"Tandoor Bites\")\n",
    "\n",
    "food_items_chain = LLMChain(llm=llm, prompt=food_items_prompt_template, output_key='menu_items')\n",
    "# print(food_items_chain.run(\"Tandoor Bites\"))"
   ]
  },
  {
   "cell_type": "code",
   "execution_count": 9,
   "id": "b983e6b2",
   "metadata": {},
   "outputs": [
    {
     "name": "stderr",
     "output_type": "stream",
     "text": [
      "C:\\Users\\rajan\\AppData\\Local\\Temp\\ipykernel_21756\\3797964989.py:7: LangChainDeprecationWarning: The method `Chain.__call__` was deprecated in langchain 0.1.0 and will be removed in 1.0. Use :meth:`~invoke` instead.\n",
      "  response = chain({\"cuisine\": \"Indian\"})\n"
     ]
    },
    {
     "data": {
      "text/plain": [
       "{'cuisine': 'Indian',\n",
       " 'restaurant_name': 'What a great idea! Indian cuisine is loved by many around the world. Here are some fancy name suggestions for your Indian restaurant:\\n\\n1. **Tandoor Mahal**: \"Tandoor\" is a traditional Indian clay oven, and \"Mahal\" means palace, evoking a sense of luxury and grandeur.\\n2. **Spice Route**: This name pays homage to the ancient trade routes that brought exotic spices from India to the world, hinting at the rich flavors your restaurant will offer.\\n3. **Dhaba Royale**: \"Dhaba\" is a traditional Punjabi eatery, and adding \"Royale\" gives it a regal twist, suggesting a refined and upscale dining experience.\\n4. **Maharaja\\'s Kitchen**: \"Maharaja\" means great king, implying a majestic and opulent atmosphere, while \"Kitchen\" emphasizes the heart of the restaurant.\\n5. **Garam Glamour**: \"Garam\" means hot or warm in Hindi, and \"Glamour\" adds a touch of sophistication, suggesting a vibrant and stylish dining experience.\\n6. **Saffron Dreams**: Saffron is a prized Indian spice, and \"Dreams\" implies a culinary journey that will transport customers to a world of flavors and aromas.\\n7. **Rajasthani Rhapsody**: \"Rajasthani\" refers to the rich cultural heritage of Rajasthan, a state in India known for its vibrant cuisine, while \"Rhapsody\" conveys a sense of joy and celebration.\\n8. **Indus Eats**: \"Indus\" references the ancient Indus Valley Civilization, which is considered the cradle of Indian cuisine, while \"Eats\" is a modern, casual twist.\\n9. **Bazaar Bistro**: \"Bazaar\" evokes the bustling markets of India, while \"Bistro\" suggests a cozy, intimate atmosphere.\\n10. **Jewel of India**: This name references the rich cultural heritage and diversity of India, implying a treasure trove of flavors and experiences.\\n\\nChoose the one that resonates with your vision and style, and good luck with your restaurant venture!',\n",
       " 'menu_items': \"Here are some delicious menu item suggestions for your vegetarian Indian restaurant:\\n\\n**Appetizers**\\n\\n* Vegetable Samosas, Paneer Tikka, Spinach and Artichoke Naan Bites, Cauliflower Gnocchi Fritters, Edamame and Mint Tikki Chaat\\n\\n**Soups**\\n\\n* Creamy Tomato and Coconut Soup, Spiced Lentil Soup, Butternut Squash and Ginger Soup, Roasted Vegetable and Quinoa Broth\\n\\n**Entrees**\\n\\n* Vegetable Korma, Palak Paneer, Chana Masala, Saag Aloo, Mushroom and Spinach Curry, Vegetable Biryani, Stuffed Bell Peppers with Quinoa and Spices\\n\\n**Sandwiches and Wraps**\\n\\n* Vegetable Tikka Wrap, Chana Masala Sandwich, Paneer and Spinach Quesadilla, Mumbai Vada Pav (fried doughnut sandwich)\\n\\n**Sides**\\n\\n* Garlic Naan, Basmati Rice, Raita (yogurt and cucumber), Papadum, Saag Paneer Naan Bites, Vegetable Pakora\\n\\n**Desserts**\\n\\n* Gulab Jamun Cheesecake, Cardamom and Rosewater Rice Pudding, Coconut Ladoo, Jalebi with Rabri (deep-fried dough with sweet yogurt sauce)\\n\\nHere are the restaurant name suggestions in a comma-separated list:\\n\\nTandoor Mahal, Spice Route, Dhaba Royale, Maharaja's Kitchen, Garam Glamour, Saffron Dreams, Rajasthani Rhapsody, Indus Eats, Bazaar Bistro, Jewel of India\"}"
      ]
     },
     "execution_count": 9,
     "metadata": {},
     "output_type": "execute_result"
    }
   ],
   "source": [
    "chain = SequentialChain(\n",
    "    chains = [name_chain, food_items_chain],\n",
    "    input_variables = ['cuisine'],\n",
    "    output_variables = ['restaurant_name', 'menu_items']\n",
    ")\n",
    "\n",
    "response = chain({\"cuisine\": \"Indian\"})\n",
    "response\n",
    "# print(display(Markdown(response[\"cuisine\"])))\n",
    "# print(display(Markdown(response[\"restaurant_name\"])))\n",
    "# print(display(Markdown(response[\"menu_items\"])))"
   ]
  },
  {
   "cell_type": "code",
   "execution_count": 10,
   "id": "063b236f",
   "metadata": {},
   "outputs": [],
   "source": [
    "# pip install wikipedia"
   ]
  },
  {
   "cell_type": "code",
   "execution_count": 11,
   "id": "61f9e8a2",
   "metadata": {},
   "outputs": [
    {
     "name": "stdout",
     "output_type": "stream",
     "text": [
      "SERPAPI_API_KEY found and looks good so far!\n"
     ]
    }
   ],
   "source": [
    "load_dotenv(override=True)\n",
    "SERPAPI_API_KEY = os.getenv(\"SERPAPI_API_KEY\")\n",
    "\n",
    "if not SERPAPI_API_KEY:\n",
    "    print(\"No SERPAPI_API_KEY found, Please set the API_KEY.\")\n",
    "    exit(1)\n",
    "elif SERPAPI_API_KEY.strip() != SERPAPI_API_KEY:\n",
    "    print(\"A SERPAPI_API_KEY was found, but it looks like it might have space or tab characters at the start or end - please remove them - see troubleshooting notebook\")\n",
    "else:\n",
    "    print(\"SERPAPI_API_KEY found and looks good so far!\")"
   ]
  },
  {
   "cell_type": "code",
   "execution_count": 12,
   "id": "08997295",
   "metadata": {},
   "outputs": [],
   "source": [
    "# pip install google-search-results"
   ]
  },
  {
   "cell_type": "code",
   "execution_count": 13,
   "id": "5a71f24c",
   "metadata": {},
   "outputs": [
    {
     "name": "stderr",
     "output_type": "stream",
     "text": [
      "C:\\Users\\rajan\\AppData\\Local\\Temp\\ipykernel_21756\\892433791.py:4: LangChainDeprecationWarning: LangChain agents will continue to be supported, but it is recommended for new use cases to be built with LangGraph. LangGraph offers a more flexible and full-featured framework for building agents, including support for tool-calling, persistence of state, and human-in-the-loop workflows. For details, refer to the `LangGraph documentation <https://langchain-ai.github.io/langgraph/>`_ as well as guides for `Migrating from AgentExecutor <https://python.langchain.com/docs/how_to/migrate_agent/>`_ and LangGraph's `Pre-built ReAct agent <https://langchain-ai.github.io/langgraph/how-tos/create-react-agent/>`_.\n",
      "  agent = initialize_agent(tools, llm, agent=AgentType.ZERO_SHOT_REACT_DESCRIPTION, verbose=True)\n"
     ]
    }
   ],
   "source": [
    "# tools = load_tools([\"wikipedia\"], llm=llm)\n",
    "tools = load_tools([\"serpapi\"], llm=llm)\n",
    "\n",
    "agent = initialize_agent(tools, llm, agent=AgentType.ZERO_SHOT_REACT_DESCRIPTION, verbose=True)\n",
    "# agent.run(\"What is the projected GDP of India in 2030?\")"
   ]
  },
  {
   "cell_type": "code",
   "execution_count": 14,
   "id": "aaa8d934",
   "metadata": {},
   "outputs": [
    {
     "name": "stderr",
     "output_type": "stream",
     "text": [
      "C:\\Users\\rajan\\AppData\\Local\\Temp\\ipykernel_21756\\836626835.py:3: LangChainDeprecationWarning: Please see the migration guide at: https://python.langchain.com/docs/versions/migrating_memory/\n",
      "  memory  = ConversationBufferMemory()\n"
     ]
    }
   ],
   "source": [
    "from langchain.memory import ConversationBufferMemory\n",
    "\n",
    "memory  = ConversationBufferMemory()\n",
    "\n",
    "chain = LLMChain(llm=llm, prompt=name_prompt_template, memory=memory)\n",
    "name = chain.run(\"Indian\")\n",
    "# print(name)"
   ]
  },
  {
   "cell_type": "code",
   "execution_count": 15,
   "id": "a427fdcf",
   "metadata": {},
   "outputs": [],
   "source": [
    "name =chain.run('Italian')\n",
    "# print(name)"
   ]
  },
  {
   "cell_type": "code",
   "execution_count": 16,
   "id": "66189ad1",
   "metadata": {},
   "outputs": [],
   "source": [
    "# print(chain.memory.buffer)"
   ]
  },
  {
   "cell_type": "code",
   "execution_count": 17,
   "id": "abd388d4",
   "metadata": {},
   "outputs": [
    {
     "name": "stdout",
     "output_type": "stream",
     "text": [
      "The following is a friendly conversation between a human and an AI. The AI is talkative and provides lots of specific details from its context. If the AI does not know the answer to a question, it truthfully says it does not know.\n",
      "\n",
      "Current conversation:\n",
      "{history}\n",
      "Human: {input}\n",
      "AI:\n"
     ]
    },
    {
     "name": "stderr",
     "output_type": "stream",
     "text": [
      "C:\\Users\\rajan\\AppData\\Local\\Temp\\ipykernel_21756\\1010055282.py:1: LangChainDeprecationWarning: The class `ConversationChain` was deprecated in LangChain 0.2.7 and will be removed in 1.0. Use :class:`~langchain_core.runnables.history.RunnableWithMessageHistory` instead.\n",
      "  convo = ConversationChain(llm =llm)\n"
     ]
    }
   ],
   "source": [
    "convo = ConversationChain(llm =llm)\n",
    "print(convo.prompt.template)"
   ]
  },
  {
   "cell_type": "code",
   "execution_count": 18,
   "id": "571c1489",
   "metadata": {},
   "outputs": [
    {
     "data": {
      "text/plain": [
       "\"The 2022 FIFA World Cup was a thrilling tournament, held in Qatar from November 20 to December 18, 2022. And the winner of that tournament was Argentina! They defeated France 4-2 in a penalty shootout, after the match had ended 3-3 after extra time. It was Argentina's third World Cup title, and their first since 1986. Lionel Messi, arguably one of the greatest footballers of all time, finally got his hands on the coveted trophy in what was likely his last World Cup appearance.\""
      ]
     },
     "execution_count": 18,
     "metadata": {},
     "output_type": "execute_result"
    }
   ],
   "source": [
    "convo.run(\"Who won the world cup in 2022?\")"
   ]
  },
  {
   "cell_type": "code",
   "execution_count": 19,
   "id": "8496d52c",
   "metadata": {},
   "outputs": [
    {
     "data": {
      "text/plain": [
       "\"What a great question! Based on my training data and analysis of current trends, I'd say that some of the trending technologies in 2030 will likely include Extended Reality (XR), which encompasses Virtual Reality (VR), Augmented Reality (AR), and Mixed Reality (MR). We can expect to see significant advancements in XR, with more affordable and accessible devices, leading to increased adoption in various industries such as education, healthcare, and entertainment.\\n\\nAnother area that's likely to gain traction is Artificial General Intelligence (AGI). While we're still far from achieving true human-like intelligence in machines, researchers are making rapid progress in developing more sophisticated AI models that can perform complex tasks, learn from experience, and adapt to new situations.\\n\\nQuantum Computing is another technology that's expected to make significant strides in 2030. With companies like Google, IBM, and Microsoft already investing heavily in quantum computing research, we can expect to see more practical applications of this technology in fields like cryptography, optimization, and simulation.\\n\\nLastly, I think we'll see a lot of growth in the Internet of Bodies (IoB) technology, which involves using sensors, wearables, and implantable devices to monitor and analyze human bodily functions. This could lead to significant breakthroughs in personalized medicine, health monitoring, and human performance optimization.\\n\\nOf course, these are just a few predictions based on my current knowledge, and the future is inherently uncertain. But these areas have the potential to make a significant impact on our lives in 2030 and beyond!\""
      ]
     },
     "execution_count": 19,
     "metadata": {},
     "output_type": "execute_result"
    }
   ],
   "source": [
    "convo.run(\"Which will be trending technology in 2030...?\")"
   ]
  },
  {
   "cell_type": "code",
   "execution_count": 20,
   "id": "8f8c36bc",
   "metadata": {},
   "outputs": [
    {
     "name": "stdout",
     "output_type": "stream",
     "text": [
      "Human: Who won the world cup in 2022?\n",
      "AI: The 2022 FIFA World Cup was a thrilling tournament, held in Qatar from November 20 to December 18, 2022. And the winner of that tournament was Argentina! They defeated France 4-2 in a penalty shootout, after the match had ended 3-3 after extra time. It was Argentina's third World Cup title, and their first since 1986. Lionel Messi, arguably one of the greatest footballers of all time, finally got his hands on the coveted trophy in what was likely his last World Cup appearance.\n",
      "Human: Which will be trending technology in 2030...?\n",
      "AI: What a great question! Based on my training data and analysis of current trends, I'd say that some of the trending technologies in 2030 will likely include Extended Reality (XR), which encompasses Virtual Reality (VR), Augmented Reality (AR), and Mixed Reality (MR). We can expect to see significant advancements in XR, with more affordable and accessible devices, leading to increased adoption in various industries such as education, healthcare, and entertainment.\n",
      "\n",
      "Another area that's likely to gain traction is Artificial General Intelligence (AGI). While we're still far from achieving true human-like intelligence in machines, researchers are making rapid progress in developing more sophisticated AI models that can perform complex tasks, learn from experience, and adapt to new situations.\n",
      "\n",
      "Quantum Computing is another technology that's expected to make significant strides in 2030. With companies like Google, IBM, and Microsoft already investing heavily in quantum computing research, we can expect to see more practical applications of this technology in fields like cryptography, optimization, and simulation.\n",
      "\n",
      "Lastly, I think we'll see a lot of growth in the Internet of Bodies (IoB) technology, which involves using sensors, wearables, and implantable devices to monitor and analyze human bodily functions. This could lead to significant breakthroughs in personalized medicine, health monitoring, and human performance optimization.\n",
      "\n",
      "Of course, these are just a few predictions based on my current knowledge, and the future is inherently uncertain. But these areas have the potential to make a significant impact on our lives in 2030 and beyond!\n"
     ]
    }
   ],
   "source": [
    "print(convo.memory.buffer)"
   ]
  },
  {
   "cell_type": "code",
   "execution_count": 21,
   "id": "f62ee499",
   "metadata": {},
   "outputs": [
    {
     "name": "stderr",
     "output_type": "stream",
     "text": [
      "C:\\Users\\rajan\\AppData\\Local\\Temp\\ipykernel_21756\\2384387795.py:1: LangChainDeprecationWarning: Please see the migration guide at: https://python.langchain.com/docs/versions/migrating_memory/\n",
      "  memory = ConversationBufferWindowMemory(k=1)\n"
     ]
    }
   ],
   "source": [
    "memory = ConversationBufferWindowMemory(k=1)\n",
    "\n",
    "convo_new = ConversationChain(llm=llm, memory=memory)"
   ]
  },
  {
   "cell_type": "code",
   "execution_count": 22,
   "id": "4ebf6906",
   "metadata": {},
   "outputs": [
    {
     "data": {
      "text/plain": [
       "'Déjà vu! I already told you earlier that Argentina won the 2022 FIFA World Cup, defeating France 4-2 in a penalty shootout, after the match had ended 3-3 after extra time!'"
      ]
     },
     "execution_count": 22,
     "metadata": {},
     "output_type": "execute_result"
    }
   ],
   "source": [
    "convo.run(\"Who won the world cup in 2022?\")"
   ]
  },
  {
   "cell_type": "code",
   "execution_count": 23,
   "id": "12c27ba4",
   "metadata": {},
   "outputs": [
    {
     "data": {
      "text/plain": [
       "\"Déjà vu again! I already shared my predictions with you earlier! To recap, I think Extended Reality (XR), Artificial General Intelligence (AGI), Quantum Computing, and the Internet of Bodies (IoB) will be some of the trending technologies in 2030. But if you'd like, I can provide more details or insights on any of these areas!\""
      ]
     },
     "execution_count": 23,
     "metadata": {},
     "output_type": "execute_result"
    }
   ],
   "source": [
    "convo.run(\"Which will be trending technology in 2030...?\")"
   ]
  },
  {
   "cell_type": "code",
   "execution_count": 24,
   "id": "ff6a377a",
   "metadata": {},
   "outputs": [
    {
     "data": {
      "text/plain": [
       "'The captain of the winning team, Argentina, in the 2022 FIFA World Cup was Lionel Messi! He led his team to victory, and it was a fitting end to his World Cup career.'"
      ]
     },
     "execution_count": 24,
     "metadata": {},
     "output_type": "execute_result"
    }
   ],
   "source": [
    "convo.run(\"Who was the captian of the winning team?\")"
   ]
  },
  {
   "cell_type": "markdown",
   "id": "bf0ab30e",
   "metadata": {},
   "source": [
    "# **RAG**"
   ]
  },
  {
   "cell_type": "code",
   "execution_count": 25,
   "id": "d472cc23",
   "metadata": {},
   "outputs": [
    {
     "name": "stderr",
     "output_type": "stream",
     "text": [
      "USER_AGENT environment variable not set, consider setting it to identify your requests.\n"
     ]
    },
    {
     "name": "stdout",
     "output_type": "stream",
     "text": [
      "[Document(metadata={'source': 'https://www.microwebtec.com/', 'title': 'Full stack Development Company - Microweb Software Pvt Ltd', 'description': 'Microweb Software, A Full stack Development Company offers Digital transformation services, Web & Mobile Development services & Enterprise Solutions', 'language': 'en'}, page_content='\\n\\n\\n\\n\\n\\n\\n\\n\\n\\n\\n\\n\\n\\n\\n\\n\\n\\n\\n\\n\\n\\n\\nFull stack Development Company - Microweb Software Pvt Ltd\\n\\n\\n\\n\\n\\n\\n\\n\\n\\n\\n\\n\\n\\n\\n\\n\\n\\n\\n\\n\\n\\n\\n\\n\\n\\n\\n\\n\\n\\n\\n\\n\\n\\n\\n\\n\\n\\n\\n\\n\\n\\n\\n\\n\\n\\n\\n\\n\\n\\n\\n\\n\\n\\n\\n\\n\\n\\n\\n\\n\\n\\n\\n\\n\\n\\n\\n\\n\\n\\n\\n\\n\\n\\n\\n\\n\\n\\n\\n\\n\\n\\n\\n\\n\\n\\n\\n\\n\\nHome\\nAbout Microweb\\nCases\\nServices\\nTechnology\\n\\nCloud Application Development Services\\nAzure DevOps Services\\nGolang Development Services\\nDevOps Consulting Services\\nBusiness Transformation\\nLaravel Application Development\\nSymfony Web Development\\nNode.js Development\\nAngularJs Web Development Services\\nRuby on Rails Application Development\\nMicrosoft Development\\nMobile Application Development\\nIoT and Embedded Systems & Smart Solutions\\nCloud Technology\\nReactJS Development\\nDrupal Web Development Services\\n2D and 3D Video Animation\\nUI & UX Design\\nWeb Development\\nEnterprise Solutions\\nDigital Marketing\\nSoftware Outsource to India\\nGraphic Designing\\neCommerce Development\\nWordPress Web Development\\nWooCommerce Development\\nShopify Development\\nPython Development\\nAI & ML Services\\n\\n\\nBlogs\\nContact\\n \\n\\n\\n\\n\\n\\nTechnologyCloud Application Development ServicesAzure DevOps ServicesAI & ML ServicesShopify DevelopmentGolang Development ServicesDevOps Consulting ServicesWebflow DevelopmentBusiness Transformation ServicesLaravel Application DevelopmentSymfony Web DevelopmentNode.js DevelopmentAngularJs Web Development ServicesRuby on Rails Application DevelopmentMicrosoft DevelopmentMobile Application DevelopmentIoT and Embedded Systems & Smart SolutionsCloud TechnologyReactJS DevelopmentDrupal Web Development Services2D and 3D Video AnimationUI & UX DesignWeb DevelopmentEnterprise SolutionsDigital MarketingSoftware Outsource to IndiaGraphic DesigningeCommerce DevelopmentWordPress DevelopmentWooCommerce DevelopmentPython Development \\n\\n\\nIndia\\n\\n\\n\\n\\n\\n\\n502, Matrix Building,\\nCorporate Road, Prahladnagar,\\nBehind Divya Bhaskar, Makarba,\\nAhmedabad-380015\\n\\n\\n\\n\\n\\n\\n\\n\\n\\n\\n                           +91 94264 83914                        \\n\\n\\n\\n\\n\\n\\n                           Email us                        \\n\\n\\nLocation\\n\\n\\n\\n                           Location\\n                        \\n\\n\\n\\nSocial\\n\\n\\n\\n\\n\\n\\n\\n\\n\\n\\n\\n\\n\\n\\n\\n\\n\\n\\n\\n\\n\\n\\n\\n\\nWe Build Brilliance!\\n\\n\\n\\n\\n\\n\\n\\n\\n\\n\\n\\n\\nWho\\n\\n\\n\\nMicroweb software specializes in translating digital challenges into seamless strategies. Strategies that deliver!\\n\\xa0\\nWe make sites, apps and digital platforms. The end user experience is at the center of everything we do. Combining design, technology and data, we make things that stimulate engagements and drive conversations.\\n\\n\\nOur collaborative approach enables enterprises use digital resources effectively. We bring in more than 15 years of craftmanship and increase their online impact.\\n\\n\\nKnow more\\n\\n\\n\\n\\n\\n\\n\\n\\nWhat\\n\\n\\nWe come from a long line of developers, digital storytellers complemented with creative insights. Designing, developing and deploying: from scratch, to concept, to thousands of downloads a day.\\n\\n\\nView all\\n\\n\\n\\n\\n\\n\\n\\n\\n\\nCases\\n\\n\\n\\n\\n\\n\\n\\n\\n\\n\\n\\n\\n\\n\\n\\nCrefin – Process Automation for Loan Processing in the USA\\nView more\\n\\n\\n\\n\\n\\n\\n\\n\\n\\n\\nSkyEduco – AI-Powered Study Abroad Portal with AI Features\\nView more\\n\\n\\n\\n\\n\\n\\n\\n\\n\\n\\nIdiagnose – AI-Powered Chatbot to Train Doctors\\nView more\\n\\n\\n\\n\\n\\nView all\\n\\n\\n\\n\\n\\n\\n\\n\\nReady to make something amazing?\\nContact us\\n\\n\\n\\n\\n\\n\\n\\n\\n\\n\\n\\n\\n\\n\\nIndia\\n502, Matrix Building,\\nCorporate Road, Prahladnagar,\\nBehind Divya Bhaskar, Makarba,\\nAhmedabad-380015\\n\\n+91 94264 83914\\nEmail us\\nSkype\\n\\n\\n\\nTechnologies\\n\\n\\n\\n\\n\\n\\n\\n\\n\\n\\n\\n\\n\\n\\n\\n\\n\\n\\n\\n\\nSocial\\n\\n\\n\\n\\n\\n\\n\\n\\n\\n\\n\\n\\n\\n\\n\\n\\n\\n\\n\\n\\n\\n\\n\\n\\nCopyright © 2025-27 Microweb.  All Rights Reserved.\\n\\n\\nPrivacy Policy\\nCookie Policy\\nTerms of Use\\n \\n\\n\\n\\n\\n\\n\\n\\n\\n\\n\\n\\n\\n\\n\\nClose\\n\\n\\nContact us\\n\\n\\n\\nEverything Begins With A Hello!\\n\\n\\n\\n\\n\\n\\n\\n \\n\\n\\n\\n\\n\\n\\n\\n\\n\\n\\n\\n\\n\\n\\n\\n\\n\\n\\n\\n\\n\\n\\n\\n\\n\\n\\n\\n\\n\\n\\n\\n\\n\\n\\nInput this code: \\n\\n\\n\\n\\n\\nPlease leave this field empty.\\n\\n\\n\\n\\n\\n\\n\\n\\n\\n\\n\\n\\n\\n\\n\\n\\n\\n\\n\\n\\n\\n\\n\\n\\n\\n\\n\\n\\n\\n\\n\\n\\n\\n')]\n"
     ]
    }
   ],
   "source": [
    "from langchain_community.document_loaders import WebBaseLoader\n",
    "\n",
    "loader = WebBaseLoader(web_paths=[\"https://www.microwebtec.com/\"])\n",
    "documents = loader.load()\n",
    "print(documents)"
   ]
  },
  {
   "cell_type": "code",
   "execution_count": 26,
   "id": "bd3b30a6",
   "metadata": {},
   "outputs": [],
   "source": [
    "from langchain.text_splitter import RecursiveCharacterTextSplitter\n",
    "\n",
    "text_splitter = RecursiveCharacterTextSplitter(chunk_size=1000, chunk_overlap=200)\n",
    "splits = text_splitter.split_documents(documents)"
   ]
  },
  {
   "cell_type": "code",
   "execution_count": 27,
   "id": "07b3c338",
   "metadata": {},
   "outputs": [
    {
     "name": "stdout",
     "output_type": "stream",
     "text": [
      "page_content='Full stack Development Company - Microweb Software Pvt Ltd\n",
      "\n",
      "\n",
      "\n",
      "\n",
      "\n",
      "\n",
      "\n",
      "\n",
      "\n",
      "\n",
      "\n",
      "\n",
      "\n",
      "\n",
      "\n",
      "\n",
      "\n",
      "\n",
      "\n",
      "\n",
      "\n",
      "\n",
      "\n",
      "\n",
      "\n",
      "\n",
      "\n",
      "\n",
      "\n",
      "\n",
      "\n",
      "\n",
      "\n",
      "\n",
      "\n",
      "\n",
      "\n",
      "\n",
      "\n",
      "\n",
      "\n",
      "\n",
      "\n",
      "\n",
      "\n",
      "\n",
      "\n",
      "\n",
      "\n",
      "\n",
      "\n",
      "\n",
      "\n",
      "\n",
      "\n",
      "\n",
      "\n",
      "\n",
      "\n",
      "\n",
      "\n",
      "\n",
      "\n",
      "\n",
      "\n",
      "\n",
      "\n",
      "\n",
      "\n",
      "\n",
      "\n",
      "\n",
      "\n",
      "\n",
      "\n",
      "\n",
      "\n",
      "\n",
      "\n",
      "\n",
      "\n",
      "\n",
      "\n",
      "\n",
      "\n",
      "\n",
      "\n",
      "\n",
      "Home\n",
      "About Microweb\n",
      "Cases\n",
      "Services\n",
      "Technology\n",
      "\n",
      "Cloud Application Development Services\n",
      "Azure DevOps Services\n",
      "Golang Development Services\n",
      "DevOps Consulting Services\n",
      "Business Transformation\n",
      "Laravel Application Development\n",
      "Symfony Web Development\n",
      "Node.js Development\n",
      "AngularJs Web Development Services\n",
      "Ruby on Rails Application Development\n",
      "Microsoft Development\n",
      "Mobile Application Development\n",
      "IoT and Embedded Systems & Smart Solutions\n",
      "Cloud Technology\n",
      "ReactJS Development\n",
      "Drupal Web Development Services\n",
      "2D and 3D Video Animation\n",
      "UI & UX Design\n",
      "Web Development\n",
      "Enterprise Solutions\n",
      "Digital Marketing\n",
      "Software Outsource to India\n",
      "Graphic Designing\n",
      "eCommerce Development\n",
      "WordPress Web Development\n",
      "WooCommerce Development\n",
      "Shopify Development\n",
      "Python Development\n",
      "AI & ML Services\n",
      "\n",
      "\n",
      "Blogs\n",
      "Contact' metadata={'source': 'https://www.microwebtec.com/', 'title': 'Full stack Development Company - Microweb Software Pvt Ltd', 'description': 'Microweb Software, A Full stack Development Company offers Digital transformation services, Web & Mobile Development services & Enterprise Solutions', 'language': 'en'}\n",
      "page_content='Blogs\n",
      "Contact\n",
      " \n",
      "\n",
      "\n",
      "\n",
      "\n",
      "\n",
      "TechnologyCloud Application Development ServicesAzure DevOps ServicesAI & ML ServicesShopify DevelopmentGolang Development ServicesDevOps Consulting ServicesWebflow DevelopmentBusiness Transformation ServicesLaravel Application DevelopmentSymfony Web DevelopmentNode.js DevelopmentAngularJs Web Development ServicesRuby on Rails Application DevelopmentMicrosoft DevelopmentMobile Application DevelopmentIoT and Embedded Systems & Smart SolutionsCloud TechnologyReactJS DevelopmentDrupal Web Development Services2D and 3D Video AnimationUI & UX DesignWeb DevelopmentEnterprise SolutionsDigital MarketingSoftware Outsource to IndiaGraphic DesigningeCommerce DevelopmentWordPress DevelopmentWooCommerce DevelopmentPython Development \n",
      "\n",
      "\n",
      "India\n",
      "\n",
      "\n",
      "\n",
      "\n",
      "\n",
      "\n",
      "502, Matrix Building,\n",
      "Corporate Road, Prahladnagar,\n",
      "Behind Divya Bhaskar, Makarba,\n",
      "Ahmedabad-380015\n",
      "\n",
      "\n",
      "\n",
      "\n",
      "\n",
      "\n",
      "\n",
      "\n",
      "\n",
      "\n",
      "                           +91 94264 83914' metadata={'source': 'https://www.microwebtec.com/', 'title': 'Full stack Development Company - Microweb Software Pvt Ltd', 'description': 'Microweb Software, A Full stack Development Company offers Digital transformation services, Web & Mobile Development services & Enterprise Solutions', 'language': 'en'}\n"
     ]
    }
   ],
   "source": [
    "print(splits[0])\n",
    "print(splits[1])"
   ]
  },
  {
   "cell_type": "code",
   "execution_count": 28,
   "id": "27b4e106",
   "metadata": {},
   "outputs": [
    {
     "name": "stdout",
     "output_type": "stream",
     "text": [
      "5\n"
     ]
    }
   ],
   "source": [
    "print(len(splits))"
   ]
  },
  {
   "cell_type": "code",
   "execution_count": 29,
   "id": "6d74cf1d",
   "metadata": {},
   "outputs": [],
   "source": [
    "# pip install sentence-transformers chromadb tiktoken"
   ]
  },
  {
   "cell_type": "code",
   "execution_count": 30,
   "id": "0131e2fe",
   "metadata": {},
   "outputs": [
    {
     "name": "stderr",
     "output_type": "stream",
     "text": [
      "C:\\Users\\rajan\\AppData\\Local\\Temp\\ipykernel_21756\\2774110483.py:3: LangChainDeprecationWarning: The class `HuggingFaceEmbeddings` was deprecated in LangChain 0.2.2 and will be removed in 1.0. An updated version of the class exists in the :class:`~langchain-huggingface package and should be used instead. To use it run `pip install -U :class:`~langchain-huggingface` and import as `from :class:`~langchain_huggingface import HuggingFaceEmbeddings``.\n",
      "  embedding_model = HuggingFaceEmbeddings(model_name=\"all-MiniLM-L6-v2\")\n"
     ]
    }
   ],
   "source": [
    "from langchain.embeddings import HuggingFaceEmbeddings\n",
    "\n",
    "embedding_model = HuggingFaceEmbeddings(model_name=\"all-MiniLM-L6-v2\")\n",
    "\n",
    "vectorstore = Chroma.from_documents(documents=splits, embedding=embedding_model)"
   ]
  },
  {
   "cell_type": "code",
   "execution_count": 31,
   "id": "e8034b20",
   "metadata": {},
   "outputs": [
    {
     "name": "stdout",
     "output_type": "stream",
     "text": [
      "5\n"
     ]
    }
   ],
   "source": [
    "print(vectorstore._collection.count())"
   ]
  },
  {
   "cell_type": "code",
   "execution_count": 32,
   "id": "c673bd02",
   "metadata": {},
   "outputs": [
    {
     "name": "stdout",
     "output_type": "stream",
     "text": [
      "{'ids': ['28786983-aec1-4c52-b982-2ffc1fe937b3', 'c89b29c3-6821-481c-9360-5ad33a3e760e', '37e754c7-2d00-4ecd-aa39-2d2c3918465f', '0172a806-d486-44fc-894c-a80baedcdae9', '41b102c1-8a7f-40c4-a83d-d36033c94c8a'], 'embeddings': None, 'documents': ['Full stack Development Company - Microweb Software Pvt Ltd\\n\\n\\n\\n\\n\\n\\n\\n\\n\\n\\n\\n\\n\\n\\n\\n\\n\\n\\n\\n\\n\\n\\n\\n\\n\\n\\n\\n\\n\\n\\n\\n\\n\\n\\n\\n\\n\\n\\n\\n\\n\\n\\n\\n\\n\\n\\n\\n\\n\\n\\n\\n\\n\\n\\n\\n\\n\\n\\n\\n\\n\\n\\n\\n\\n\\n\\n\\n\\n\\n\\n\\n\\n\\n\\n\\n\\n\\n\\n\\n\\n\\n\\n\\n\\n\\n\\n\\n\\nHome\\nAbout Microweb\\nCases\\nServices\\nTechnology\\n\\nCloud Application Development Services\\nAzure DevOps Services\\nGolang Development Services\\nDevOps Consulting Services\\nBusiness Transformation\\nLaravel Application Development\\nSymfony Web Development\\nNode.js Development\\nAngularJs Web Development Services\\nRuby on Rails Application Development\\nMicrosoft Development\\nMobile Application Development\\nIoT and Embedded Systems & Smart Solutions\\nCloud Technology\\nReactJS Development\\nDrupal Web Development Services\\n2D and 3D Video Animation\\nUI & UX Design\\nWeb Development\\nEnterprise Solutions\\nDigital Marketing\\nSoftware Outsource to India\\nGraphic Designing\\neCommerce Development\\nWordPress Web Development\\nWooCommerce Development\\nShopify Development\\nPython Development\\nAI & ML Services\\n\\n\\nBlogs\\nContact', 'Blogs\\nContact\\n \\n\\n\\n\\n\\n\\nTechnologyCloud Application Development ServicesAzure DevOps ServicesAI & ML ServicesShopify DevelopmentGolang Development ServicesDevOps Consulting ServicesWebflow DevelopmentBusiness Transformation ServicesLaravel Application DevelopmentSymfony Web DevelopmentNode.js DevelopmentAngularJs Web Development ServicesRuby on Rails Application DevelopmentMicrosoft DevelopmentMobile Application DevelopmentIoT and Embedded Systems & Smart SolutionsCloud TechnologyReactJS DevelopmentDrupal Web Development Services2D and 3D Video AnimationUI & UX DesignWeb DevelopmentEnterprise SolutionsDigital MarketingSoftware Outsource to IndiaGraphic DesigningeCommerce DevelopmentWordPress DevelopmentWooCommerce DevelopmentPython Development \\n\\n\\nIndia\\n\\n\\n\\n\\n\\n\\n502, Matrix Building,\\nCorporate Road, Prahladnagar,\\nBehind Divya Bhaskar, Makarba,\\nAhmedabad-380015\\n\\n\\n\\n\\n\\n\\n\\n\\n\\n\\n                           +91 94264 83914', 'India\\n\\n\\n\\n\\n\\n\\n502, Matrix Building,\\nCorporate Road, Prahladnagar,\\nBehind Divya Bhaskar, Makarba,\\nAhmedabad-380015\\n\\n\\n\\n\\n\\n\\n\\n\\n\\n\\n                           +91 94264 83914                        \\n\\n\\n\\n\\n\\n\\n                           Email us                        \\n\\n\\nLocation\\n\\n\\n\\n                           Location\\n                        \\n\\n\\n\\nSocial\\n\\n\\n\\n\\n\\n\\n\\n\\n\\n\\n\\n\\n\\n\\n\\n\\n\\n\\n\\n\\n\\n\\n\\n\\nWe Build Brilliance!\\n\\n\\n\\n\\n\\n\\n\\n\\n\\n\\n\\n\\nWho\\n\\n\\n\\nMicroweb software specializes in translating digital challenges into seamless strategies. Strategies that deliver!\\n\\xa0\\nWe make sites, apps and digital platforms. The end user experience is at the center of everything we do. Combining design, technology and data, we make things that stimulate engagements and drive conversations.\\n\\n\\nOur collaborative approach enables enterprises use digital resources effectively. We bring in more than 15 years of craftmanship and increase their online impact.\\n\\n\\nKnow more\\n\\n\\n\\n\\n\\n\\n\\n\\nWhat', 'Our collaborative approach enables enterprises use digital resources effectively. We bring in more than 15 years of craftmanship and increase their online impact.\\n\\n\\nKnow more\\n\\n\\n\\n\\n\\n\\n\\n\\nWhat\\n\\n\\nWe come from a long line of developers, digital storytellers complemented with creative insights. Designing, developing and deploying: from scratch, to concept, to thousands of downloads a day.\\n\\n\\nView all\\n\\n\\n\\n\\n\\n\\n\\n\\n\\nCases\\n\\n\\n\\n\\n\\n\\n\\n\\n\\n\\n\\n\\n\\n\\n\\nCrefin – Process Automation for Loan Processing in the USA\\nView more\\n\\n\\n\\n\\n\\n\\n\\n\\n\\n\\nSkyEduco – AI-Powered Study Abroad Portal with AI Features\\nView more\\n\\n\\n\\n\\n\\n\\n\\n\\n\\n\\nIdiagnose – AI-Powered Chatbot to Train Doctors\\nView more\\n\\n\\n\\n\\n\\nView all\\n\\n\\n\\n\\n\\n\\n\\n\\nReady to make something amazing?\\nContact us\\n\\n\\n\\n\\n\\n\\n\\n\\n\\n\\n\\n\\n\\n\\nIndia\\n502, Matrix Building,\\nCorporate Road, Prahladnagar,\\nBehind Divya Bhaskar, Makarba,\\nAhmedabad-380015\\n\\n+91 94264 83914\\nEmail us\\nSkype\\n\\n\\n\\nTechnologies\\n\\n\\n\\n\\n\\n\\n\\n\\n\\n\\n\\n\\n\\n\\n\\n\\n\\n\\n\\n\\nSocial\\n\\n\\n\\n\\n\\n\\n\\n\\n\\n\\n\\n\\n\\n\\n\\n\\n\\n\\n\\n\\n\\n\\n\\n\\nCopyright © 2025-27 Microweb.  All Rights Reserved.', '+91 94264 83914\\nEmail us\\nSkype\\n\\n\\n\\nTechnologies\\n\\n\\n\\n\\n\\n\\n\\n\\n\\n\\n\\n\\n\\n\\n\\n\\n\\n\\n\\n\\nSocial\\n\\n\\n\\n\\n\\n\\n\\n\\n\\n\\n\\n\\n\\n\\n\\n\\n\\n\\n\\n\\n\\n\\n\\n\\nCopyright © 2025-27 Microweb.  All Rights Reserved.\\n\\n\\nPrivacy Policy\\nCookie Policy\\nTerms of Use\\n \\n\\n\\n\\n\\n\\n\\n\\n\\n\\n\\n\\n\\n\\n\\nClose\\n\\n\\nContact us\\n\\n\\n\\nEverything Begins With A Hello!\\n\\n\\n\\n\\n\\n\\n\\n \\n\\n\\n\\n\\n\\n\\n\\n\\n\\n\\n\\n\\n\\n\\n\\n\\n\\n\\n\\n\\n\\n\\n\\n\\n\\n\\n\\n\\n\\n\\n\\n\\n\\n\\nInput this code: \\n\\n\\n\\n\\n\\nPlease leave this field empty.'], 'uris': None, 'included': ['metadatas', 'documents'], 'data': None, 'metadatas': [{'source': 'https://www.microwebtec.com/', 'description': 'Microweb Software, A Full stack Development Company offers Digital transformation services, Web & Mobile Development services & Enterprise Solutions', 'title': 'Full stack Development Company - Microweb Software Pvt Ltd', 'language': 'en'}, {'title': 'Full stack Development Company - Microweb Software Pvt Ltd', 'language': 'en', 'source': 'https://www.microwebtec.com/', 'description': 'Microweb Software, A Full stack Development Company offers Digital transformation services, Web & Mobile Development services & Enterprise Solutions'}, {'language': 'en', 'description': 'Microweb Software, A Full stack Development Company offers Digital transformation services, Web & Mobile Development services & Enterprise Solutions', 'source': 'https://www.microwebtec.com/', 'title': 'Full stack Development Company - Microweb Software Pvt Ltd'}, {'description': 'Microweb Software, A Full stack Development Company offers Digital transformation services, Web & Mobile Development services & Enterprise Solutions', 'language': 'en', 'title': 'Full stack Development Company - Microweb Software Pvt Ltd', 'source': 'https://www.microwebtec.com/'}, {'title': 'Full stack Development Company - Microweb Software Pvt Ltd', 'language': 'en', 'source': 'https://www.microwebtec.com/', 'description': 'Microweb Software, A Full stack Development Company offers Digital transformation services, Web & Mobile Development services & Enterprise Solutions'}]}\n"
     ]
    }
   ],
   "source": [
    "print(vectorstore._collection.get())"
   ]
  },
  {
   "cell_type": "code",
   "execution_count": 33,
   "id": "bf1be120",
   "metadata": {},
   "outputs": [
    {
     "name": "stdout",
     "output_type": "stream",
     "text": [
      "\n",
      " Collection 1-  {'ids': [], 'embeddings': array([], dtype=float64), 'documents': [], 'uris': None, 'included': ['embeddings', 'documents'], 'data': None, 'metadatas': None}\n"
     ]
    }
   ],
   "source": [
    "print(\"\\n Collection 1- \", vectorstore._collection.get(ids=['94c2431d-ff50-431c-8e66-9a6104c320b4'], include=[\"embeddings\", \"documents\"]))\n",
    "# print(\"\\n Collection 2- \", vectorstore._collection.get(ids=['2ccbdf71-97e0-487b-bc18-2970c224f49c'], include=[\"embeddings\", \"documents\"]))\n",
    "# print(\"\\n Collection 3- \", vectorstore._collection.get(ids=['39e457a8-4912-4e02-8be1-4e7af68cdcab'], include=[\"embeddings\", \"documents\"]))"
   ]
  },
  {
   "cell_type": "code",
   "execution_count": 34,
   "id": "ae0641b5",
   "metadata": {},
   "outputs": [],
   "source": [
    "retriever = vectorstore.as_retriever()"
   ]
  },
  {
   "cell_type": "code",
   "execution_count": 35,
   "id": "10c0cd6d",
   "metadata": {},
   "outputs": [
    {
     "name": "stderr",
     "output_type": "stream",
     "text": [
      "C:\\Users\\rajan\\AppData\\Roaming\\Python\\Python312\\site-packages\\langsmith\\client.py:272: LangSmithMissingAPIKeyWarning: API key must be provided when using hosted LangSmith API\n",
      "  warnings.warn(\n"
     ]
    }
   ],
   "source": [
    "from langchain import hub\n",
    "prompt  = hub.pull(\"rlm/rag-prompt\")"
   ]
  },
  {
   "cell_type": "code",
   "execution_count": 36,
   "id": "54e20939",
   "metadata": {},
   "outputs": [],
   "source": [
    "# pip install langchain_openai"
   ]
  },
  {
   "cell_type": "code",
   "execution_count": 37,
   "id": "3cbef332",
   "metadata": {},
   "outputs": [],
   "source": [
    "from langchain_openai import ChatOpenAI\n",
    "\n",
    "llm = ChatOpenAI(api_key=API_KEY, base_url=BASE_URL, model=MODEL, temperature=0.6)"
   ]
  },
  {
   "cell_type": "code",
   "execution_count": 38,
   "id": "e07d931f",
   "metadata": {},
   "outputs": [],
   "source": [
    "from langchain_core.runnables import RunnablePassthrough\n",
    "from langchain_core.output_parsers import StrOutputParser\n",
    "\n",
    "rag_chain = ({\"context\": retriever, \"question\": RunnablePassthrough})\n",
    "\n",
    "def format_docs(docs):\n",
    "    return \"\\n\\n\".join([d.page_content for doc in docs])\n",
    "\n",
    "rag_chain = ({\"context\": retriever | format_docs, \"question\": RunnablePassthrough()}\n",
    "            | prompt\n",
    "            | llm\n",
    "            | StrOutputParser())"
   ]
  },
  {
   "cell_type": "code",
   "execution_count": 39,
   "id": "87ce8d49",
   "metadata": {},
   "outputs": [
    {
     "ename": "NameError",
     "evalue": "name 'd' is not defined",
     "output_type": "error",
     "traceback": [
      "\u001b[1;31m---------------------------------------------------------------------------\u001b[0m",
      "\u001b[1;31mNameError\u001b[0m                                 Traceback (most recent call last)",
      "Cell \u001b[1;32mIn[39], line 1\u001b[0m\n\u001b[1;32m----> 1\u001b[0m rag_chain\u001b[38;5;241m.\u001b[39minvoke(\u001b[38;5;124m\"\u001b[39m\u001b[38;5;124mWhich type of services are there?\u001b[39m\u001b[38;5;124m\"\u001b[39m)\n",
      "File \u001b[1;32m~\\AppData\\Roaming\\Python\\Python312\\site-packages\\langchain_core\\runnables\\base.py:3044\u001b[0m, in \u001b[0;36mRunnableSequence.invoke\u001b[1;34m(self, input, config, **kwargs)\u001b[0m\n\u001b[0;32m   3042\u001b[0m \u001b[38;5;28;01mwith\u001b[39;00m set_config_context(config) \u001b[38;5;28;01mas\u001b[39;00m context:\n\u001b[0;32m   3043\u001b[0m     \u001b[38;5;28;01mif\u001b[39;00m i \u001b[38;5;241m==\u001b[39m \u001b[38;5;241m0\u001b[39m:\n\u001b[1;32m-> 3044\u001b[0m         input_ \u001b[38;5;241m=\u001b[39m context\u001b[38;5;241m.\u001b[39mrun(step\u001b[38;5;241m.\u001b[39minvoke, input_, config, \u001b[38;5;241m*\u001b[39m\u001b[38;5;241m*\u001b[39mkwargs)\n\u001b[0;32m   3045\u001b[0m     \u001b[38;5;28;01melse\u001b[39;00m:\n\u001b[0;32m   3046\u001b[0m         input_ \u001b[38;5;241m=\u001b[39m context\u001b[38;5;241m.\u001b[39mrun(step\u001b[38;5;241m.\u001b[39minvoke, input_, config)\n",
      "File \u001b[1;32m~\\AppData\\Roaming\\Python\\Python312\\site-packages\\langchain_core\\runnables\\base.py:3773\u001b[0m, in \u001b[0;36mRunnableParallel.invoke\u001b[1;34m(self, input, config, **kwargs)\u001b[0m\n\u001b[0;32m   3768\u001b[0m     \u001b[38;5;28;01mwith\u001b[39;00m get_executor_for_config(config) \u001b[38;5;28;01mas\u001b[39;00m executor:\n\u001b[0;32m   3769\u001b[0m         futures \u001b[38;5;241m=\u001b[39m [\n\u001b[0;32m   3770\u001b[0m             executor\u001b[38;5;241m.\u001b[39msubmit(_invoke_step, step, \u001b[38;5;28minput\u001b[39m, config, key)\n\u001b[0;32m   3771\u001b[0m             \u001b[38;5;28;01mfor\u001b[39;00m key, step \u001b[38;5;129;01min\u001b[39;00m steps\u001b[38;5;241m.\u001b[39mitems()\n\u001b[0;32m   3772\u001b[0m         ]\n\u001b[1;32m-> 3773\u001b[0m         output \u001b[38;5;241m=\u001b[39m {key: future\u001b[38;5;241m.\u001b[39mresult() \u001b[38;5;28;01mfor\u001b[39;00m key, future \u001b[38;5;129;01min\u001b[39;00m \u001b[38;5;28mzip\u001b[39m(steps, futures)}\n\u001b[0;32m   3774\u001b[0m \u001b[38;5;66;03m# finish the root run\u001b[39;00m\n\u001b[0;32m   3775\u001b[0m \u001b[38;5;28;01mexcept\u001b[39;00m \u001b[38;5;167;01mBaseException\u001b[39;00m \u001b[38;5;28;01mas\u001b[39;00m e:\n",
      "File \u001b[1;32mc:\\ProgramData\\anaconda3\\Lib\\concurrent\\futures\\_base.py:456\u001b[0m, in \u001b[0;36mFuture.result\u001b[1;34m(self, timeout)\u001b[0m\n\u001b[0;32m    454\u001b[0m     \u001b[38;5;28;01mraise\u001b[39;00m CancelledError()\n\u001b[0;32m    455\u001b[0m \u001b[38;5;28;01melif\u001b[39;00m \u001b[38;5;28mself\u001b[39m\u001b[38;5;241m.\u001b[39m_state \u001b[38;5;241m==\u001b[39m FINISHED:\n\u001b[1;32m--> 456\u001b[0m     \u001b[38;5;28;01mreturn\u001b[39;00m \u001b[38;5;28mself\u001b[39m\u001b[38;5;241m.\u001b[39m__get_result()\n\u001b[0;32m    457\u001b[0m \u001b[38;5;28;01melse\u001b[39;00m:\n\u001b[0;32m    458\u001b[0m     \u001b[38;5;28;01mraise\u001b[39;00m \u001b[38;5;167;01mTimeoutError\u001b[39;00m()\n",
      "File \u001b[1;32mc:\\ProgramData\\anaconda3\\Lib\\concurrent\\futures\\_base.py:401\u001b[0m, in \u001b[0;36mFuture.__get_result\u001b[1;34m(self)\u001b[0m\n\u001b[0;32m    399\u001b[0m \u001b[38;5;28;01mif\u001b[39;00m \u001b[38;5;28mself\u001b[39m\u001b[38;5;241m.\u001b[39m_exception:\n\u001b[0;32m    400\u001b[0m     \u001b[38;5;28;01mtry\u001b[39;00m:\n\u001b[1;32m--> 401\u001b[0m         \u001b[38;5;28;01mraise\u001b[39;00m \u001b[38;5;28mself\u001b[39m\u001b[38;5;241m.\u001b[39m_exception\n\u001b[0;32m    402\u001b[0m     \u001b[38;5;28;01mfinally\u001b[39;00m:\n\u001b[0;32m    403\u001b[0m         \u001b[38;5;66;03m# Break a reference cycle with the exception in self._exception\u001b[39;00m\n\u001b[0;32m    404\u001b[0m         \u001b[38;5;28mself\u001b[39m \u001b[38;5;241m=\u001b[39m \u001b[38;5;28;01mNone\u001b[39;00m\n",
      "File \u001b[1;32mc:\\ProgramData\\anaconda3\\Lib\\concurrent\\futures\\thread.py:58\u001b[0m, in \u001b[0;36m_WorkItem.run\u001b[1;34m(self)\u001b[0m\n\u001b[0;32m     55\u001b[0m     \u001b[38;5;28;01mreturn\u001b[39;00m\n\u001b[0;32m     57\u001b[0m \u001b[38;5;28;01mtry\u001b[39;00m:\n\u001b[1;32m---> 58\u001b[0m     result \u001b[38;5;241m=\u001b[39m \u001b[38;5;28mself\u001b[39m\u001b[38;5;241m.\u001b[39mfn(\u001b[38;5;241m*\u001b[39m\u001b[38;5;28mself\u001b[39m\u001b[38;5;241m.\u001b[39margs, \u001b[38;5;241m*\u001b[39m\u001b[38;5;241m*\u001b[39m\u001b[38;5;28mself\u001b[39m\u001b[38;5;241m.\u001b[39mkwargs)\n\u001b[0;32m     59\u001b[0m \u001b[38;5;28;01mexcept\u001b[39;00m \u001b[38;5;167;01mBaseException\u001b[39;00m \u001b[38;5;28;01mas\u001b[39;00m exc:\n\u001b[0;32m     60\u001b[0m     \u001b[38;5;28mself\u001b[39m\u001b[38;5;241m.\u001b[39mfuture\u001b[38;5;241m.\u001b[39mset_exception(exc)\n",
      "File \u001b[1;32m~\\AppData\\Roaming\\Python\\Python312\\site-packages\\langchain_core\\runnables\\base.py:3757\u001b[0m, in \u001b[0;36mRunnableParallel.invoke.<locals>._invoke_step\u001b[1;34m(step, input_, config, key)\u001b[0m\n\u001b[0;32m   3751\u001b[0m child_config \u001b[38;5;241m=\u001b[39m patch_config(\n\u001b[0;32m   3752\u001b[0m     config,\n\u001b[0;32m   3753\u001b[0m     \u001b[38;5;66;03m# mark each step as a child run\u001b[39;00m\n\u001b[0;32m   3754\u001b[0m     callbacks\u001b[38;5;241m=\u001b[39mrun_manager\u001b[38;5;241m.\u001b[39mget_child(\u001b[38;5;124mf\u001b[39m\u001b[38;5;124m\"\u001b[39m\u001b[38;5;124mmap:key:\u001b[39m\u001b[38;5;132;01m{\u001b[39;00mkey\u001b[38;5;132;01m}\u001b[39;00m\u001b[38;5;124m\"\u001b[39m),\n\u001b[0;32m   3755\u001b[0m )\n\u001b[0;32m   3756\u001b[0m \u001b[38;5;28;01mwith\u001b[39;00m set_config_context(child_config) \u001b[38;5;28;01mas\u001b[39;00m context:\n\u001b[1;32m-> 3757\u001b[0m     \u001b[38;5;28;01mreturn\u001b[39;00m context\u001b[38;5;241m.\u001b[39mrun(\n\u001b[0;32m   3758\u001b[0m         step\u001b[38;5;241m.\u001b[39minvoke,\n\u001b[0;32m   3759\u001b[0m         input_,\n\u001b[0;32m   3760\u001b[0m         child_config,\n\u001b[0;32m   3761\u001b[0m     )\n",
      "File \u001b[1;32m~\\AppData\\Roaming\\Python\\Python312\\site-packages\\langchain_core\\runnables\\base.py:3046\u001b[0m, in \u001b[0;36mRunnableSequence.invoke\u001b[1;34m(self, input, config, **kwargs)\u001b[0m\n\u001b[0;32m   3044\u001b[0m                 input_ \u001b[38;5;241m=\u001b[39m context\u001b[38;5;241m.\u001b[39mrun(step\u001b[38;5;241m.\u001b[39minvoke, input_, config, \u001b[38;5;241m*\u001b[39m\u001b[38;5;241m*\u001b[39mkwargs)\n\u001b[0;32m   3045\u001b[0m             \u001b[38;5;28;01melse\u001b[39;00m:\n\u001b[1;32m-> 3046\u001b[0m                 input_ \u001b[38;5;241m=\u001b[39m context\u001b[38;5;241m.\u001b[39mrun(step\u001b[38;5;241m.\u001b[39minvoke, input_, config)\n\u001b[0;32m   3047\u001b[0m \u001b[38;5;66;03m# finish the root run\u001b[39;00m\n\u001b[0;32m   3048\u001b[0m \u001b[38;5;28;01mexcept\u001b[39;00m \u001b[38;5;167;01mBaseException\u001b[39;00m \u001b[38;5;28;01mas\u001b[39;00m e:\n",
      "File \u001b[1;32m~\\AppData\\Roaming\\Python\\Python312\\site-packages\\langchain_core\\runnables\\base.py:4775\u001b[0m, in \u001b[0;36mRunnableLambda.invoke\u001b[1;34m(self, input, config, **kwargs)\u001b[0m\n\u001b[0;32m   4761\u001b[0m \u001b[38;5;250m\u001b[39m\u001b[38;5;124;03m\"\"\"Invoke this Runnable synchronously.\u001b[39;00m\n\u001b[0;32m   4762\u001b[0m \n\u001b[0;32m   4763\u001b[0m \u001b[38;5;124;03mArgs:\u001b[39;00m\n\u001b[1;32m   (...)\u001b[0m\n\u001b[0;32m   4772\u001b[0m \u001b[38;5;124;03m    TypeError: If the Runnable is a coroutine function.\u001b[39;00m\n\u001b[0;32m   4773\u001b[0m \u001b[38;5;124;03m\"\"\"\u001b[39;00m\n\u001b[0;32m   4774\u001b[0m \u001b[38;5;28;01mif\u001b[39;00m \u001b[38;5;28mhasattr\u001b[39m(\u001b[38;5;28mself\u001b[39m, \u001b[38;5;124m\"\u001b[39m\u001b[38;5;124mfunc\u001b[39m\u001b[38;5;124m\"\u001b[39m):\n\u001b[1;32m-> 4775\u001b[0m     \u001b[38;5;28;01mreturn\u001b[39;00m \u001b[38;5;28mself\u001b[39m\u001b[38;5;241m.\u001b[39m_call_with_config(\n\u001b[0;32m   4776\u001b[0m         \u001b[38;5;28mself\u001b[39m\u001b[38;5;241m.\u001b[39m_invoke,\n\u001b[0;32m   4777\u001b[0m         \u001b[38;5;28minput\u001b[39m,\n\u001b[0;32m   4778\u001b[0m         ensure_config(config),\n\u001b[0;32m   4779\u001b[0m         \u001b[38;5;241m*\u001b[39m\u001b[38;5;241m*\u001b[39mkwargs,\n\u001b[0;32m   4780\u001b[0m     )\n\u001b[0;32m   4781\u001b[0m msg \u001b[38;5;241m=\u001b[39m \u001b[38;5;124m\"\u001b[39m\u001b[38;5;124mCannot invoke a coroutine function synchronously.Use `ainvoke` instead.\u001b[39m\u001b[38;5;124m\"\u001b[39m\n\u001b[0;32m   4782\u001b[0m \u001b[38;5;28;01mraise\u001b[39;00m \u001b[38;5;167;01mTypeError\u001b[39;00m(msg)\n",
      "File \u001b[1;32m~\\AppData\\Roaming\\Python\\Python312\\site-packages\\langchain_core\\runnables\\base.py:1939\u001b[0m, in \u001b[0;36mRunnable._call_with_config\u001b[1;34m(self, func, input_, config, run_type, serialized, **kwargs)\u001b[0m\n\u001b[0;32m   1935\u001b[0m     child_config \u001b[38;5;241m=\u001b[39m patch_config(config, callbacks\u001b[38;5;241m=\u001b[39mrun_manager\u001b[38;5;241m.\u001b[39mget_child())\n\u001b[0;32m   1936\u001b[0m     \u001b[38;5;28;01mwith\u001b[39;00m set_config_context(child_config) \u001b[38;5;28;01mas\u001b[39;00m context:\n\u001b[0;32m   1937\u001b[0m         output \u001b[38;5;241m=\u001b[39m cast(\n\u001b[0;32m   1938\u001b[0m             \u001b[38;5;124m\"\u001b[39m\u001b[38;5;124mOutput\u001b[39m\u001b[38;5;124m\"\u001b[39m,\n\u001b[1;32m-> 1939\u001b[0m             context\u001b[38;5;241m.\u001b[39mrun(\n\u001b[0;32m   1940\u001b[0m                 call_func_with_variable_args,  \u001b[38;5;66;03m# type: ignore[arg-type]\u001b[39;00m\n\u001b[0;32m   1941\u001b[0m                 func,\n\u001b[0;32m   1942\u001b[0m                 input_,\n\u001b[0;32m   1943\u001b[0m                 config,\n\u001b[0;32m   1944\u001b[0m                 run_manager,\n\u001b[0;32m   1945\u001b[0m                 \u001b[38;5;241m*\u001b[39m\u001b[38;5;241m*\u001b[39mkwargs,\n\u001b[0;32m   1946\u001b[0m             ),\n\u001b[0;32m   1947\u001b[0m         )\n\u001b[0;32m   1948\u001b[0m \u001b[38;5;28;01mexcept\u001b[39;00m \u001b[38;5;167;01mBaseException\u001b[39;00m \u001b[38;5;28;01mas\u001b[39;00m e:\n\u001b[0;32m   1949\u001b[0m     run_manager\u001b[38;5;241m.\u001b[39mon_chain_error(e)\n",
      "File \u001b[1;32m~\\AppData\\Roaming\\Python\\Python312\\site-packages\\langchain_core\\runnables\\config.py:428\u001b[0m, in \u001b[0;36mcall_func_with_variable_args\u001b[1;34m(func, input, config, run_manager, **kwargs)\u001b[0m\n\u001b[0;32m    426\u001b[0m \u001b[38;5;28;01mif\u001b[39;00m run_manager \u001b[38;5;129;01mis\u001b[39;00m \u001b[38;5;129;01mnot\u001b[39;00m \u001b[38;5;28;01mNone\u001b[39;00m \u001b[38;5;129;01mand\u001b[39;00m accepts_run_manager(func):\n\u001b[0;32m    427\u001b[0m     kwargs[\u001b[38;5;124m\"\u001b[39m\u001b[38;5;124mrun_manager\u001b[39m\u001b[38;5;124m\"\u001b[39m] \u001b[38;5;241m=\u001b[39m run_manager\n\u001b[1;32m--> 428\u001b[0m \u001b[38;5;28;01mreturn\u001b[39;00m func(\u001b[38;5;28minput\u001b[39m, \u001b[38;5;241m*\u001b[39m\u001b[38;5;241m*\u001b[39mkwargs)\n",
      "File \u001b[1;32m~\\AppData\\Roaming\\Python\\Python312\\site-packages\\langchain_core\\runnables\\base.py:4633\u001b[0m, in \u001b[0;36mRunnableLambda._invoke\u001b[1;34m(self, input_, run_manager, config, **kwargs)\u001b[0m\n\u001b[0;32m   4631\u001b[0m                 output \u001b[38;5;241m=\u001b[39m chunk\n\u001b[0;32m   4632\u001b[0m \u001b[38;5;28;01melse\u001b[39;00m:\n\u001b[1;32m-> 4633\u001b[0m     output \u001b[38;5;241m=\u001b[39m call_func_with_variable_args(\n\u001b[0;32m   4634\u001b[0m         \u001b[38;5;28mself\u001b[39m\u001b[38;5;241m.\u001b[39mfunc, input_, config, run_manager, \u001b[38;5;241m*\u001b[39m\u001b[38;5;241m*\u001b[39mkwargs\n\u001b[0;32m   4635\u001b[0m     )\n\u001b[0;32m   4636\u001b[0m \u001b[38;5;66;03m# If the output is a Runnable, invoke it\u001b[39;00m\n\u001b[0;32m   4637\u001b[0m \u001b[38;5;28;01mif\u001b[39;00m \u001b[38;5;28misinstance\u001b[39m(output, Runnable):\n",
      "File \u001b[1;32m~\\AppData\\Roaming\\Python\\Python312\\site-packages\\langchain_core\\runnables\\config.py:428\u001b[0m, in \u001b[0;36mcall_func_with_variable_args\u001b[1;34m(func, input, config, run_manager, **kwargs)\u001b[0m\n\u001b[0;32m    426\u001b[0m \u001b[38;5;28;01mif\u001b[39;00m run_manager \u001b[38;5;129;01mis\u001b[39;00m \u001b[38;5;129;01mnot\u001b[39;00m \u001b[38;5;28;01mNone\u001b[39;00m \u001b[38;5;129;01mand\u001b[39;00m accepts_run_manager(func):\n\u001b[0;32m    427\u001b[0m     kwargs[\u001b[38;5;124m\"\u001b[39m\u001b[38;5;124mrun_manager\u001b[39m\u001b[38;5;124m\"\u001b[39m] \u001b[38;5;241m=\u001b[39m run_manager\n\u001b[1;32m--> 428\u001b[0m \u001b[38;5;28;01mreturn\u001b[39;00m func(\u001b[38;5;28minput\u001b[39m, \u001b[38;5;241m*\u001b[39m\u001b[38;5;241m*\u001b[39mkwargs)\n",
      "Cell \u001b[1;32mIn[38], line 7\u001b[0m, in \u001b[0;36mformat_docs\u001b[1;34m(docs)\u001b[0m\n\u001b[0;32m      6\u001b[0m \u001b[38;5;28;01mdef\u001b[39;00m \u001b[38;5;21mformat_docs\u001b[39m(docs):\n\u001b[1;32m----> 7\u001b[0m     \u001b[38;5;28;01mreturn\u001b[39;00m \u001b[38;5;124m\"\u001b[39m\u001b[38;5;130;01m\\n\u001b[39;00m\u001b[38;5;130;01m\\n\u001b[39;00m\u001b[38;5;124m\"\u001b[39m\u001b[38;5;241m.\u001b[39mjoin([d\u001b[38;5;241m.\u001b[39mpage_content \u001b[38;5;28;01mfor\u001b[39;00m doc \u001b[38;5;129;01min\u001b[39;00m docs])\n",
      "\u001b[1;31mNameError\u001b[0m: name 'd' is not defined"
     ]
    }
   ],
   "source": [
    "rag_chain.invoke(\"Which type of services are there?\")"
   ]
  },
  {
   "cell_type": "code",
   "execution_count": null,
   "id": "91ac4609",
   "metadata": {},
   "outputs": [],
   "source": []
  },
  {
   "cell_type": "code",
   "execution_count": null,
   "id": "526da12e",
   "metadata": {},
   "outputs": [],
   "source": []
  }
 ],
 "metadata": {
  "kernelspec": {
   "display_name": "base",
   "language": "python",
   "name": "python3"
  },
  "language_info": {
   "codemirror_mode": {
    "name": "ipython",
    "version": 3
   },
   "file_extension": ".py",
   "mimetype": "text/x-python",
   "name": "python",
   "nbconvert_exporter": "python",
   "pygments_lexer": "ipython3",
   "version": "3.12.7"
  }
 },
 "nbformat": 4,
 "nbformat_minor": 5
}
